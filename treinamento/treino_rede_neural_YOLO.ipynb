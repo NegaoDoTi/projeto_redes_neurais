{
  "nbformat": 4,
  "nbformat_minor": 0,
  "metadata": {
    "colab": {
      "provenance": [],
      "gpuType": "T4"
    },
    "kernelspec": {
      "name": "python3",
      "display_name": "Python 3"
    },
    "language_info": {
      "name": "python"
    },
    "accelerator": "GPU"
  },
  "cells": [
    {
      "cell_type": "code",
      "execution_count": 1,
      "metadata": {
        "id": "B6dwbvicBEks"
      },
      "outputs": [],
      "source": [
        "from zipfile import ZipFile\n",
        "\n",
        "archive = ZipFile(\"/content/data.zip\")\n",
        "\n",
        "archive.extractall()\n",
        "\n",
        "archive.close()"
      ]
    },
    {
      "cell_type": "markdown",
      "source": [
        "Fazendo os imports"
      ],
      "metadata": {
        "id": "-NQ7_N5yEJRi"
      }
    },
    {
      "cell_type": "code",
      "source": [
        "\n",
        "!pip install ultralytics -q\n",
        "\n",
        "import os\n",
        "import shutil\n",
        "import numpy as np\n",
        "import pandas as pd\n",
        "import matplotlib.pyplot as plt\n",
        "import cv2\n",
        "import yaml\n",
        "from ultralytics import YOLO\n",
        "\n",
        "import os\n",
        "for dirname, _, filenames in os.walk('/kaggle/input'):\n",
        "    for filename in filenames:\n",
        "        print(os.path.join(dirname, filename))"
      ],
      "metadata": {
        "colab": {
          "base_uri": "https://localhost:8080/"
        },
        "id": "N0e8JCjxBt75",
        "outputId": "908a5e62-8c52-4069-b178-61ac9d53214a"
      },
      "execution_count": 2,
      "outputs": [
        {
          "output_type": "stream",
          "name": "stdout",
          "text": [
            "\u001b[2K   \u001b[90m━━━━━━━━━━━━━━━━━━━━━━━━━━━━━━━━━━━━━━━━\u001b[0m \u001b[32m1.0/1.0 MB\u001b[0m \u001b[31m30.4 MB/s\u001b[0m eta \u001b[36m0:00:00\u001b[0m\n",
            "\u001b[2K   \u001b[90m━━━━━━━━━━━━━━━━━━━━━━━━━━━━━━━━━━━━━━━━\u001b[0m \u001b[32m363.4/363.4 MB\u001b[0m \u001b[31m5.4 MB/s\u001b[0m eta \u001b[36m0:00:00\u001b[0m\n",
            "\u001b[2K   \u001b[90m━━━━━━━━━━━━━━━━━━━━━━━━━━━━━━━━━━━━━━━━\u001b[0m \u001b[32m13.8/13.8 MB\u001b[0m \u001b[31m125.5 MB/s\u001b[0m eta \u001b[36m0:00:00\u001b[0m\n",
            "\u001b[2K   \u001b[90m━━━━━━━━━━━━━━━━━━━━━━━━━━━━━━━━━━━━━━━━\u001b[0m \u001b[32m24.6/24.6 MB\u001b[0m \u001b[31m94.7 MB/s\u001b[0m eta \u001b[36m0:00:00\u001b[0m\n",
            "\u001b[2K   \u001b[90m━━━━━━━━━━━━━━━━━━━━━━━━━━━━━━━━━━━━━━━━\u001b[0m \u001b[32m883.7/883.7 kB\u001b[0m \u001b[31m63.6 MB/s\u001b[0m eta \u001b[36m0:00:00\u001b[0m\n",
            "\u001b[2K   \u001b[90m━━━━━━━━━━━━━━━━━━━━━━━━━━━━━━━━━━━━━━━━\u001b[0m \u001b[32m664.8/664.8 MB\u001b[0m \u001b[31m2.8 MB/s\u001b[0m eta \u001b[36m0:00:00\u001b[0m\n",
            "\u001b[2K   \u001b[90m━━━━━━━━━━━━━━━━━━━━━━━━━━━━━━━━━━━━━━━━\u001b[0m \u001b[32m211.5/211.5 MB\u001b[0m \u001b[31m5.3 MB/s\u001b[0m eta \u001b[36m0:00:00\u001b[0m\n",
            "\u001b[2K   \u001b[90m━━━━━━━━━━━━━━━━━━━━━━━━━━━━━━━━━━━━━━━━\u001b[0m \u001b[32m56.3/56.3 MB\u001b[0m \u001b[31m13.5 MB/s\u001b[0m eta \u001b[36m0:00:00\u001b[0m\n",
            "\u001b[2K   \u001b[90m━━━━━━━━━━━━━━━━━━━━━━━━━━━━━━━━━━━━━━━━\u001b[0m \u001b[32m127.9/127.9 MB\u001b[0m \u001b[31m7.5 MB/s\u001b[0m eta \u001b[36m0:00:00\u001b[0m\n",
            "\u001b[2K   \u001b[90m━━━━━━━━━━━━━━━━━━━━━━━━━━━━━━━━━━━━━━━━\u001b[0m \u001b[32m207.5/207.5 MB\u001b[0m \u001b[31m6.6 MB/s\u001b[0m eta \u001b[36m0:00:00\u001b[0m\n",
            "\u001b[2K   \u001b[90m━━━━━━━━━━━━━━━━━━━━━━━━━━━━━━━━━━━━━━━━\u001b[0m \u001b[32m21.1/21.1 MB\u001b[0m \u001b[31m109.3 MB/s\u001b[0m eta \u001b[36m0:00:00\u001b[0m\n",
            "\u001b[?25hCreating new Ultralytics Settings v0.0.6 file ✅ \n",
            "View Ultralytics Settings with 'yolo settings' or at '/root/.config/Ultralytics/settings.json'\n",
            "Update Settings with 'yolo settings key=value', i.e. 'yolo settings runs_dir=path/to/dir'. For help see https://docs.ultralytics.com/quickstart/#ultralytics-settings.\n"
          ]
        }
      ]
    },
    {
      "cell_type": "markdown",
      "source": [
        "Definindo Diretorios"
      ],
      "metadata": {
        "id": "m_n1K8F4CaH6"
      }
    },
    {
      "cell_type": "code",
      "source": [
        "\n",
        "\n",
        "# Local original dos datasets\n",
        "train_img_dir = \"/content/kaggle/input/car-object-detection/data/training_images\"\n",
        "test_img_dir = \"/content/kaggle/input/car-object-detection/data/testing_images\"\n",
        "labels_csv = \"/content/kaggle/input/car-object-detection/data/train_solution_bounding_boxes.csv\"\n",
        "\n"
      ],
      "metadata": {
        "id": "GrbceZisCZZn"
      },
      "execution_count": 3,
      "outputs": []
    },
    {
      "cell_type": "code",
      "source": [
        "root_dir = \"/kaggle/working/data\"\n",
        "os.makedirs(root_dir, exist_ok=True)\n",
        "os.makedirs(f\"{root_dir}/images/train\", exist_ok=True)\n",
        "os.makedirs(f\"{root_dir}/images/val\", exist_ok=True)\n",
        "os.makedirs(f\"{root_dir}/labels/train\", exist_ok=True)\n",
        "os.makedirs(f\"{root_dir}/labels/val\", exist_ok=True)"
      ],
      "metadata": {
        "id": "McSUES-hChlq"
      },
      "execution_count": 4,
      "outputs": []
    },
    {
      "cell_type": "markdown",
      "source": [
        "Convertendo CSV Annotations para o formato YOLO"
      ],
      "metadata": {
        "id": "tWYM_-Z1Csvi"
      }
    },
    {
      "cell_type": "code",
      "source": [
        "df = pd.read_csv(labels_csv)\n",
        "df['class'] = 0  # uma classe: carro\n",
        "df.rename(columns={'image': 'img_name'}, inplace=True)\n",
        "\n",
        "# Tamanho da imagem para o dataset\n",
        "W, H = 676, 380\n",
        "\n",
        "df[\"x_center\"] = ((df[\"xmin\"] + df[\"xmax\"]) / 2) / W\n",
        "df[\"y_center\"] = ((df[\"ymin\"] + df[\"ymax\"]) / 2) / H\n",
        "df[\"width\"] = (df[\"xmax\"] - df[\"xmin\"]) / W\n",
        "df[\"height\"] = (df[\"ymax\"] - df[\"ymin\"]) / H\n",
        "\n",
        "df_yolo = df[[\"img_name\", \"class\", \"x_center\", \"y_center\", \"width\", \"height\"]]\n",
        "\n"
      ],
      "metadata": {
        "id": "BHuhFiZeCokg"
      },
      "execution_count": 5,
      "outputs": []
    },
    {
      "cell_type": "markdown",
      "source": [
        "Fazendo split de train e val e fazendo preparação do arquivo."
      ],
      "metadata": {
        "id": "W_K_RL6nCyLw"
      }
    },
    {
      "cell_type": "code",
      "source": [
        "image_list = sorted(os.listdir(train_img_dir))\n",
        "np.random.shuffle(image_list)\n",
        "\n",
        "split = int(0.8 * len(image_list))\n",
        "train_imgs = image_list[:split]\n",
        "val_imgs = image_list[split:]\n",
        "\n",
        "for img_name in image_list:\n",
        "    subset = \"train\" if img_name in train_imgs else \"val\"\n",
        "\n",
        "    if img_name in df_yolo[\"img_name\"].values:\n",
        "        rows = df_yolo[df_yolo[\"img_name\"] == img_name]\n",
        "        label_path = f\"{root_dir}/labels/{subset}/{img_name.replace('.jpg','.txt')}\"\n",
        "        with open(label_path, 'w') as f:\n",
        "            for _, row in rows.iterrows():\n",
        "                f.write(f\"{int(row['class'])} {row['x_center']} {row['y_center']} {row['width']} {row['height']}\\n\")\n",
        "\n",
        "    # Copiando a imagem\n",
        "    shutil.copy(f\"{train_img_dir}/{img_name}\", f\"{root_dir}/images/{subset}/{img_name}\")"
      ],
      "metadata": {
        "id": "DudwRdLRC5JA"
      },
      "execution_count": 6,
      "outputs": []
    },
    {
      "cell_type": "markdown",
      "source": [
        " Ciando arquivo de configuração YAML"
      ],
      "metadata": {
        "id": "dTVW_G9dC9ni"
      }
    },
    {
      "cell_type": "code",
      "source": [
        "data_yaml = {\n",
        "    'path': root_dir,\n",
        "    'train': f\"{root_dir}/images/train\",\n",
        "    'val': f\"{root_dir}/images/val\",\n",
        "    'nc': 1,\n",
        "    'names': ['car']\n",
        "}\n",
        "\n",
        "with open(\"/kaggle/working/yolo.yaml\", 'w') as f:\n",
        "    yaml.dump(data_yaml, f)"
      ],
      "metadata": {
        "id": "q2_V2QNXDBFY"
      },
      "execution_count": 7,
      "outputs": []
    },
    {
      "cell_type": "markdown",
      "source": [
        "Classe para salvar tempos de epocas"
      ],
      "metadata": {
        "id": "MdXOPLhlNM91"
      }
    },
    {
      "cell_type": "code",
      "source": [
        "import time\n",
        "\n",
        "def on_train_epoch_start( trainer):\n",
        "\n",
        "    with open(\"/content/epoch_times.txt\", \"a+\") as f:\n",
        "      f.write(f\"Epoch {trainer.epoch + 1} started at {time.strftime('%Y-%m-%d %H:%M:%S', time.localtime())}\\n\")\n",
        "\n",
        "def on_train_epoch_end( trainer):\n",
        "    with open(\"/content/epoch_times.txt\", \"a+\") as f:\n",
        "      f.write(f\"Epoch {trainer.epoch + 1} ended at {time.strftime('%Y-%m-%d %H:%M:%S', time.localtime())}\\n\")"
      ],
      "metadata": {
        "id": "ACsrNB1qNK_D"
      },
      "execution_count": 8,
      "outputs": []
    },
    {
      "cell_type": "markdown",
      "source": [
        "Treino YOLO"
      ],
      "metadata": {
        "id": "F1ZzIp5oDUDS"
      }
    },
    {
      "cell_type": "code",
      "source": [
        "from datetime import datetime\n",
        "model = YOLO(\"yolo11n.pt\")\n",
        "\n",
        "model.add_callback(\"on_train_epoch_start\", on_train_epoch_start)\n",
        "model.add_callback(\"on_train_epoch_end\", on_train_epoch_end)\n",
        "\n",
        "inicio_treino = datetime.now()\n",
        "\n",
        "model.train(\n",
        "    data=\"/kaggle/working/yolo.yaml\",\n",
        "    epochs=100,\n",
        "    imgsz=640,\n",
        "    batch=8,\n",
        "    name=\"car_detector\",\n",
        "    patience=10\n",
        ")\n",
        "\n",
        "end_train = datetime.now()\n",
        "\n",
        "with open(\"tempo_treino.txt\", \"w\") as f:\n",
        "    f.write(f\"Tempo de treino: {end_train - inicio_treino}\")\n",
        "    f.close()"
      ],
      "metadata": {
        "colab": {
          "base_uri": "https://localhost:8080/"
        },
        "id": "2_oty3rXDUfA",
        "outputId": "8dddcbe0-ee4d-455d-ca62-ca4a65cea923"
      },
      "execution_count": 9,
      "outputs": [
        {
          "output_type": "stream",
          "name": "stdout",
          "text": [
            "Downloading https://github.com/ultralytics/assets/releases/download/v8.3.0/yolo11n.pt to 'yolo11n.pt'...\n"
          ]
        },
        {
          "output_type": "stream",
          "name": "stderr",
          "text": [
            "100%|██████████| 5.35M/5.35M [00:00<00:00, 97.4MB/s]\n"
          ]
        },
        {
          "output_type": "stream",
          "name": "stdout",
          "text": [
            "Ultralytics 8.3.137 🚀 Python-3.11.12 torch-2.6.0+cu124 CUDA:0 (Tesla T4, 15095MiB)\n",
            "\u001b[34m\u001b[1mengine/trainer: \u001b[0magnostic_nms=False, amp=True, augment=False, auto_augment=randaugment, batch=8, bgr=0.0, box=7.5, cache=False, cfg=None, classes=None, close_mosaic=10, cls=0.5, conf=None, copy_paste=0.0, copy_paste_mode=flip, cos_lr=False, cutmix=0.0, data=/kaggle/working/yolo.yaml, degrees=0.0, deterministic=True, device=None, dfl=1.5, dnn=False, dropout=0.0, dynamic=False, embed=None, epochs=100, erasing=0.4, exist_ok=False, fliplr=0.5, flipud=0.0, format=torchscript, fraction=1.0, freeze=None, half=False, hsv_h=0.015, hsv_s=0.7, hsv_v=0.4, imgsz=640, int8=False, iou=0.7, keras=False, kobj=1.0, line_width=None, lr0=0.01, lrf=0.01, mask_ratio=4, max_det=300, mixup=0.0, mode=train, model=yolo11n.pt, momentum=0.937, mosaic=1.0, multi_scale=False, name=car_detector, nbs=64, nms=False, opset=None, optimize=False, optimizer=auto, overlap_mask=True, patience=10, perspective=0.0, plots=True, pose=12.0, pretrained=True, profile=False, project=None, rect=False, resume=False, retina_masks=False, save=True, save_conf=False, save_crop=False, save_dir=runs/detect/car_detector, save_frames=False, save_json=False, save_period=-1, save_txt=False, scale=0.5, seed=0, shear=0.0, show=False, show_boxes=True, show_conf=True, show_labels=True, simplify=True, single_cls=False, source=None, split=val, stream_buffer=False, task=detect, time=None, tracker=botsort.yaml, translate=0.1, val=True, verbose=True, vid_stride=1, visualize=False, warmup_bias_lr=0.1, warmup_epochs=3.0, warmup_momentum=0.8, weight_decay=0.0005, workers=8, workspace=None\n",
            "Downloading https://ultralytics.com/assets/Arial.ttf to '/root/.config/Ultralytics/Arial.ttf'...\n"
          ]
        },
        {
          "output_type": "stream",
          "name": "stderr",
          "text": [
            "100%|██████████| 755k/755k [00:00<00:00, 18.0MB/s]"
          ]
        },
        {
          "output_type": "stream",
          "name": "stdout",
          "text": [
            "Overriding model.yaml nc=80 with nc=1\n",
            "\n",
            "                   from  n    params  module                                       arguments                     \n",
            "  0                  -1  1       464  ultralytics.nn.modules.conv.Conv             [3, 16, 3, 2]                 \n",
            "  1                  -1  1      4672  ultralytics.nn.modules.conv.Conv             [16, 32, 3, 2]                \n",
            "  2                  -1  1      6640  ultralytics.nn.modules.block.C3k2            [32, 64, 1, False, 0.25]      \n",
            "  3                  -1  1     36992  ultralytics.nn.modules.conv.Conv             [64, 64, 3, 2]                \n",
            "  4                  -1  1     26080  ultralytics.nn.modules.block.C3k2            [64, 128, 1, False, 0.25]     \n",
            "  5                  -1  1    147712  ultralytics.nn.modules.conv.Conv             [128, 128, 3, 2]              \n",
            "  6                  -1  1     87040  ultralytics.nn.modules.block.C3k2            [128, 128, 1, True]           \n",
            "  7                  -1  1    295424  ultralytics.nn.modules.conv.Conv             [128, 256, 3, 2]              \n",
            "  8                  -1  1    346112  ultralytics.nn.modules.block.C3k2            [256, 256, 1, True]           \n",
            "  9                  -1  1    164608  ultralytics.nn.modules.block.SPPF            [256, 256, 5]                 \n",
            " 10                  -1  1    249728  ultralytics.nn.modules.block.C2PSA           [256, 256, 1]                 \n",
            " 11                  -1  1         0  torch.nn.modules.upsampling.Upsample         [None, 2, 'nearest']          \n",
            " 12             [-1, 6]  1         0  ultralytics.nn.modules.conv.Concat           [1]                           \n",
            " 13                  -1  1    111296  ultralytics.nn.modules.block.C3k2            [384, 128, 1, False]          \n",
            " 14                  -1  1         0  torch.nn.modules.upsampling.Upsample         [None, 2, 'nearest']          \n",
            " 15             [-1, 4]  1         0  ultralytics.nn.modules.conv.Concat           [1]                           \n",
            " 16                  -1  1     32096  ultralytics.nn.modules.block.C3k2            [256, 64, 1, False]           \n",
            " 17                  -1  1     36992  ultralytics.nn.modules.conv.Conv             [64, 64, 3, 2]                \n",
            " 18            [-1, 13]  1         0  ultralytics.nn.modules.conv.Concat           [1]                           \n",
            " 19                  -1  1     86720  ultralytics.nn.modules.block.C3k2            [192, 128, 1, False]          \n",
            " 20                  -1  1    147712  ultralytics.nn.modules.conv.Conv             [128, 128, 3, 2]              \n",
            " 21            [-1, 10]  1         0  ultralytics.nn.modules.conv.Concat           [1]                           \n",
            " 22                  -1  1    378880  ultralytics.nn.modules.block.C3k2            [384, 256, 1, True]           \n",
            " 23        [16, 19, 22]  1    430867  ultralytics.nn.modules.head.Detect           [1, [64, 128, 256]]           \n"
          ]
        },
        {
          "output_type": "stream",
          "name": "stderr",
          "text": [
            "\n"
          ]
        },
        {
          "output_type": "stream",
          "name": "stdout",
          "text": [
            "YOLO11n summary: 181 layers, 2,590,035 parameters, 2,590,019 gradients, 6.4 GFLOPs\n",
            "\n",
            "Transferred 448/499 items from pretrained weights\n",
            "Freezing layer 'model.23.dfl.conv.weight'\n",
            "\u001b[34m\u001b[1mAMP: \u001b[0mrunning Automatic Mixed Precision (AMP) checks...\n",
            "\u001b[34m\u001b[1mAMP: \u001b[0mchecks passed ✅\n",
            "\u001b[34m\u001b[1mtrain: \u001b[0mFast image access ✅ (ping: 0.0±0.0 ms, read: 1974.3±1177.5 MB/s, size: 111.2 KB)\n"
          ]
        },
        {
          "output_type": "stream",
          "name": "stderr",
          "text": [
            "\u001b[34m\u001b[1mtrain: \u001b[0mScanning /kaggle/working/data/labels/train... 278 images, 522 backgrounds, 0 corrupt: 100%|██████████| 800/800 [00:00<00:00, 3426.73it/s]"
          ]
        },
        {
          "output_type": "stream",
          "name": "stdout",
          "text": [
            "\u001b[34m\u001b[1mtrain: \u001b[0mNew cache created: /kaggle/working/data/labels/train.cache\n"
          ]
        },
        {
          "output_type": "stream",
          "name": "stderr",
          "text": [
            "\n"
          ]
        },
        {
          "output_type": "stream",
          "name": "stdout",
          "text": [
            "\u001b[34m\u001b[1malbumentations: \u001b[0mBlur(p=0.01, blur_limit=(3, 7)), MedianBlur(p=0.01, blur_limit=(3, 7)), ToGray(p=0.01, method='weighted_average', num_output_channels=3), CLAHE(p=0.01, clip_limit=(1.0, 4.0), tile_grid_size=(8, 8))\n",
            "\u001b[34m\u001b[1mval: \u001b[0mFast image access ✅ (ping: 0.0±0.0 ms, read: 715.4±395.4 MB/s, size: 101.8 KB)\n"
          ]
        },
        {
          "output_type": "stream",
          "name": "stderr",
          "text": [
            "\u001b[34m\u001b[1mval: \u001b[0mScanning /kaggle/working/data/labels/val... 77 images, 124 backgrounds, 0 corrupt: 100%|██████████| 201/201 [00:00<00:00, 2798.60it/s]"
          ]
        },
        {
          "output_type": "stream",
          "name": "stdout",
          "text": [
            "\u001b[34m\u001b[1mval: \u001b[0mNew cache created: /kaggle/working/data/labels/val.cache\n"
          ]
        },
        {
          "output_type": "stream",
          "name": "stderr",
          "text": [
            "\n"
          ]
        },
        {
          "output_type": "stream",
          "name": "stdout",
          "text": [
            "Plotting labels to runs/detect/car_detector/labels.jpg... \n",
            "\u001b[34m\u001b[1moptimizer:\u001b[0m 'optimizer=auto' found, ignoring 'lr0=0.01' and 'momentum=0.937' and determining best 'optimizer', 'lr0' and 'momentum' automatically... \n",
            "\u001b[34m\u001b[1moptimizer:\u001b[0m AdamW(lr=0.002, momentum=0.9) with parameter groups 81 weight(decay=0.0), 88 weight(decay=0.0005), 87 bias(decay=0.0)\n",
            "Image sizes 640 train, 640 val\n",
            "Using 2 dataloader workers\n",
            "Logging results to \u001b[1mruns/detect/car_detector\u001b[0m\n",
            "Starting training for 100 epochs...\n",
            "\n",
            "      Epoch    GPU_mem   box_loss   cls_loss   dfl_loss  Instances       Size\n"
          ]
        },
        {
          "output_type": "stream",
          "name": "stderr",
          "text": [
            "      1/100      1.18G      1.462      3.577       1.19          5        640: 100%|██████████| 100/100 [00:20<00:00,  4.90it/s]\n",
            "                 Class     Images  Instances      Box(P          R      mAP50  mAP50-95): 100%|██████████| 13/13 [00:02<00:00,  5.37it/s]\n"
          ]
        },
        {
          "output_type": "stream",
          "name": "stdout",
          "text": [
            "                   all        201        127      0.971      0.252      0.863      0.484\n",
            "\n",
            "      Epoch    GPU_mem   box_loss   cls_loss   dfl_loss  Instances       Size\n"
          ]
        },
        {
          "output_type": "stream",
          "name": "stderr",
          "text": [
            "      2/100       1.2G      1.448      2.634      1.209          6        640: 100%|██████████| 100/100 [00:19<00:00,  5.14it/s]\n",
            "                 Class     Images  Instances      Box(P          R      mAP50  mAP50-95): 100%|██████████| 13/13 [00:01<00:00,  9.68it/s]\n"
          ]
        },
        {
          "output_type": "stream",
          "name": "stdout",
          "text": [
            "                   all        201        127      0.904       0.89      0.937      0.553\n",
            "\n",
            "      Epoch    GPU_mem   box_loss   cls_loss   dfl_loss  Instances       Size\n"
          ]
        },
        {
          "output_type": "stream",
          "name": "stderr",
          "text": [
            "      3/100      1.22G      1.377      1.944      1.205         13        640: 100%|██████████| 100/100 [00:17<00:00,  5.84it/s]\n",
            "                 Class     Images  Instances      Box(P          R      mAP50  mAP50-95): 100%|██████████| 13/13 [00:01<00:00,  7.30it/s]\n"
          ]
        },
        {
          "output_type": "stream",
          "name": "stdout",
          "text": [
            "                   all        201        127      0.855       0.88       0.91      0.481\n",
            "\n",
            "      Epoch    GPU_mem   box_loss   cls_loss   dfl_loss  Instances       Size\n"
          ]
        },
        {
          "output_type": "stream",
          "name": "stderr",
          "text": [
            "      4/100      1.23G      1.473      1.665      1.276          3        640: 100%|██████████| 100/100 [00:18<00:00,  5.39it/s]\n",
            "                 Class     Images  Instances      Box(P          R      mAP50  mAP50-95): 100%|██████████| 13/13 [00:01<00:00,  9.56it/s]"
          ]
        },
        {
          "output_type": "stream",
          "name": "stdout",
          "text": [
            "                   all        201        127      0.943      0.919      0.974      0.578\n"
          ]
        },
        {
          "output_type": "stream",
          "name": "stderr",
          "text": [
            "\n"
          ]
        },
        {
          "output_type": "stream",
          "name": "stdout",
          "text": [
            "\n",
            "      Epoch    GPU_mem   box_loss   cls_loss   dfl_loss  Instances       Size\n"
          ]
        },
        {
          "output_type": "stream",
          "name": "stderr",
          "text": [
            "      5/100      1.25G      1.422      1.441      1.251          5        640: 100%|██████████| 100/100 [00:17<00:00,  5.86it/s]\n",
            "                 Class     Images  Instances      Box(P          R      mAP50  mAP50-95): 100%|██████████| 13/13 [00:02<00:00,  5.98it/s]\n"
          ]
        },
        {
          "output_type": "stream",
          "name": "stdout",
          "text": [
            "                   all        201        127      0.953      0.961      0.984      0.599\n",
            "\n",
            "      Epoch    GPU_mem   box_loss   cls_loss   dfl_loss  Instances       Size\n"
          ]
        },
        {
          "output_type": "stream",
          "name": "stderr",
          "text": [
            "      6/100      1.26G      1.443        1.3      1.251          4        640: 100%|██████████| 100/100 [00:17<00:00,  5.86it/s]\n",
            "                 Class     Images  Instances      Box(P          R      mAP50  mAP50-95): 100%|██████████| 13/13 [00:01<00:00,  9.63it/s]"
          ]
        },
        {
          "output_type": "stream",
          "name": "stdout",
          "text": [
            "                   all        201        127      0.923      0.937      0.973      0.596\n"
          ]
        },
        {
          "output_type": "stream",
          "name": "stderr",
          "text": [
            "\n"
          ]
        },
        {
          "output_type": "stream",
          "name": "stdout",
          "text": [
            "\n",
            "      Epoch    GPU_mem   box_loss   cls_loss   dfl_loss  Instances       Size\n"
          ]
        },
        {
          "output_type": "stream",
          "name": "stderr",
          "text": [
            "      7/100      1.27G      1.382      1.067      1.218          7        640: 100%|██████████| 100/100 [00:16<00:00,  5.89it/s]\n",
            "                 Class     Images  Instances      Box(P          R      mAP50  mAP50-95): 100%|██████████| 13/13 [00:02<00:00,  6.26it/s]"
          ]
        },
        {
          "output_type": "stream",
          "name": "stdout",
          "text": [
            "                   all        201        127      0.936      0.925      0.974      0.556\n"
          ]
        },
        {
          "output_type": "stream",
          "name": "stderr",
          "text": [
            "\n"
          ]
        },
        {
          "output_type": "stream",
          "name": "stdout",
          "text": [
            "\n",
            "      Epoch    GPU_mem   box_loss   cls_loss   dfl_loss  Instances       Size\n"
          ]
        },
        {
          "output_type": "stream",
          "name": "stderr",
          "text": [
            "      8/100      1.29G      1.416       1.05      1.242          3        640: 100%|██████████| 100/100 [00:17<00:00,  5.84it/s]\n",
            "                 Class     Images  Instances      Box(P          R      mAP50  mAP50-95): 100%|██████████| 13/13 [00:01<00:00, 10.11it/s]"
          ]
        },
        {
          "output_type": "stream",
          "name": "stdout",
          "text": [
            "                   all        201        127      0.953      0.921      0.952      0.602\n"
          ]
        },
        {
          "output_type": "stream",
          "name": "stderr",
          "text": [
            "\n"
          ]
        },
        {
          "output_type": "stream",
          "name": "stdout",
          "text": [
            "\n",
            "      Epoch    GPU_mem   box_loss   cls_loss   dfl_loss  Instances       Size\n"
          ]
        },
        {
          "output_type": "stream",
          "name": "stderr",
          "text": [
            "      9/100       1.3G       1.41      1.038      1.219          5        640: 100%|██████████| 100/100 [00:17<00:00,  5.83it/s]\n",
            "                 Class     Images  Instances      Box(P          R      mAP50  mAP50-95): 100%|██████████| 13/13 [00:01<00:00,  6.70it/s]"
          ]
        },
        {
          "output_type": "stream",
          "name": "stdout",
          "text": [
            "                   all        201        127      0.944      0.945      0.972      0.568\n"
          ]
        },
        {
          "output_type": "stream",
          "name": "stderr",
          "text": [
            "\n"
          ]
        },
        {
          "output_type": "stream",
          "name": "stdout",
          "text": [
            "\n",
            "      Epoch    GPU_mem   box_loss   cls_loss   dfl_loss  Instances       Size\n"
          ]
        },
        {
          "output_type": "stream",
          "name": "stderr",
          "text": [
            "     10/100      1.32G      1.345     0.8991      1.215          7        640: 100%|██████████| 100/100 [00:17<00:00,  5.64it/s]\n",
            "                 Class     Images  Instances      Box(P          R      mAP50  mAP50-95): 100%|██████████| 13/13 [00:01<00:00, 10.37it/s]"
          ]
        },
        {
          "output_type": "stream",
          "name": "stdout",
          "text": [
            "                   all        201        127      0.984      0.978      0.994      0.616\n"
          ]
        },
        {
          "output_type": "stream",
          "name": "stderr",
          "text": [
            "\n"
          ]
        },
        {
          "output_type": "stream",
          "name": "stdout",
          "text": [
            "\n",
            "      Epoch    GPU_mem   box_loss   cls_loss   dfl_loss  Instances       Size\n"
          ]
        },
        {
          "output_type": "stream",
          "name": "stderr",
          "text": [
            "     11/100      1.33G      1.337     0.8613      1.209         10        640: 100%|██████████| 100/100 [00:16<00:00,  5.89it/s]\n",
            "                 Class     Images  Instances      Box(P          R      mAP50  mAP50-95): 100%|██████████| 13/13 [00:01<00:00,  8.06it/s]"
          ]
        },
        {
          "output_type": "stream",
          "name": "stdout",
          "text": [
            "                   all        201        127      0.984      0.949      0.985       0.59\n"
          ]
        },
        {
          "output_type": "stream",
          "name": "stderr",
          "text": [
            "\n"
          ]
        },
        {
          "output_type": "stream",
          "name": "stdout",
          "text": [
            "\n",
            "      Epoch    GPU_mem   box_loss   cls_loss   dfl_loss  Instances       Size\n"
          ]
        },
        {
          "output_type": "stream",
          "name": "stderr",
          "text": [
            "     12/100      1.35G       1.32     0.8284       1.19         15        640: 100%|██████████| 100/100 [00:17<00:00,  5.63it/s]\n",
            "                 Class     Images  Instances      Box(P          R      mAP50  mAP50-95): 100%|██████████| 13/13 [00:01<00:00, 10.28it/s]"
          ]
        },
        {
          "output_type": "stream",
          "name": "stdout",
          "text": [
            "                   all        201        127      0.998      0.945       0.99      0.627\n"
          ]
        },
        {
          "output_type": "stream",
          "name": "stderr",
          "text": [
            "\n"
          ]
        },
        {
          "output_type": "stream",
          "name": "stdout",
          "text": [
            "\n",
            "      Epoch    GPU_mem   box_loss   cls_loss   dfl_loss  Instances       Size\n"
          ]
        },
        {
          "output_type": "stream",
          "name": "stderr",
          "text": [
            "     13/100      1.36G      1.362     0.8338      1.219         13        640: 100%|██████████| 100/100 [00:17<00:00,  5.86it/s]\n",
            "                 Class     Images  Instances      Box(P          R      mAP50  mAP50-95): 100%|██████████| 13/13 [00:01<00:00,  8.29it/s]"
          ]
        },
        {
          "output_type": "stream",
          "name": "stdout",
          "text": [
            "                   all        201        127      0.963      0.961      0.987       0.64\n"
          ]
        },
        {
          "output_type": "stream",
          "name": "stderr",
          "text": [
            "\n"
          ]
        },
        {
          "output_type": "stream",
          "name": "stdout",
          "text": [
            "\n",
            "      Epoch    GPU_mem   box_loss   cls_loss   dfl_loss  Instances       Size\n"
          ]
        },
        {
          "output_type": "stream",
          "name": "stderr",
          "text": [
            "     14/100      1.38G      1.336     0.8127      1.189          4        640: 100%|██████████| 100/100 [00:17<00:00,  5.59it/s]\n",
            "                 Class     Images  Instances      Box(P          R      mAP50  mAP50-95): 100%|██████████| 13/13 [00:01<00:00, 10.33it/s]"
          ]
        },
        {
          "output_type": "stream",
          "name": "stdout",
          "text": [
            "                   all        201        127      0.976      0.967      0.986       0.57\n"
          ]
        },
        {
          "output_type": "stream",
          "name": "stderr",
          "text": [
            "\n"
          ]
        },
        {
          "output_type": "stream",
          "name": "stdout",
          "text": [
            "\n",
            "      Epoch    GPU_mem   box_loss   cls_loss   dfl_loss  Instances       Size\n"
          ]
        },
        {
          "output_type": "stream",
          "name": "stderr",
          "text": [
            "     15/100      1.39G      1.339       0.82       1.22         11        640: 100%|██████████| 100/100 [00:16<00:00,  5.88it/s]\n",
            "                 Class     Images  Instances      Box(P          R      mAP50  mAP50-95): 100%|██████████| 13/13 [00:01<00:00, 10.06it/s]"
          ]
        },
        {
          "output_type": "stream",
          "name": "stdout",
          "text": [
            "                   all        201        127      0.947      0.953      0.989      0.631\n"
          ]
        },
        {
          "output_type": "stream",
          "name": "stderr",
          "text": [
            "\n"
          ]
        },
        {
          "output_type": "stream",
          "name": "stdout",
          "text": [
            "\n",
            "      Epoch    GPU_mem   box_loss   cls_loss   dfl_loss  Instances       Size\n"
          ]
        },
        {
          "output_type": "stream",
          "name": "stderr",
          "text": [
            "     16/100      1.41G      1.325     0.7814      1.204          2        640: 100%|██████████| 100/100 [00:17<00:00,  5.63it/s]\n",
            "                 Class     Images  Instances      Box(P          R      mAP50  mAP50-95): 100%|██████████| 13/13 [00:01<00:00, 10.41it/s]"
          ]
        },
        {
          "output_type": "stream",
          "name": "stdout",
          "text": [
            "                   all        201        127      0.993      0.961      0.993      0.645\n"
          ]
        },
        {
          "output_type": "stream",
          "name": "stderr",
          "text": [
            "\n"
          ]
        },
        {
          "output_type": "stream",
          "name": "stdout",
          "text": [
            "\n",
            "      Epoch    GPU_mem   box_loss   cls_loss   dfl_loss  Instances       Size\n"
          ]
        },
        {
          "output_type": "stream",
          "name": "stderr",
          "text": [
            "     17/100      1.42G      1.251     0.7194      1.149          3        640: 100%|██████████| 100/100 [00:16<00:00,  5.96it/s]\n",
            "                 Class     Images  Instances      Box(P          R      mAP50  mAP50-95): 100%|██████████| 13/13 [00:01<00:00,  9.93it/s]"
          ]
        },
        {
          "output_type": "stream",
          "name": "stdout",
          "text": [
            "                   all        201        127      0.981      0.945      0.986      0.624\n"
          ]
        },
        {
          "output_type": "stream",
          "name": "stderr",
          "text": [
            "\n"
          ]
        },
        {
          "output_type": "stream",
          "name": "stdout",
          "text": [
            "\n",
            "      Epoch    GPU_mem   box_loss   cls_loss   dfl_loss  Instances       Size\n"
          ]
        },
        {
          "output_type": "stream",
          "name": "stderr",
          "text": [
            "     18/100      1.44G      1.298     0.7756      1.186          4        640: 100%|██████████| 100/100 [00:18<00:00,  5.55it/s]\n",
            "                 Class     Images  Instances      Box(P          R      mAP50  mAP50-95): 100%|██████████| 13/13 [00:01<00:00, 10.54it/s]"
          ]
        },
        {
          "output_type": "stream",
          "name": "stdout",
          "text": [
            "                   all        201        127      0.957      0.969      0.983      0.628\n"
          ]
        },
        {
          "output_type": "stream",
          "name": "stderr",
          "text": [
            "\n"
          ]
        },
        {
          "output_type": "stream",
          "name": "stdout",
          "text": [
            "\n",
            "      Epoch    GPU_mem   box_loss   cls_loss   dfl_loss  Instances       Size\n"
          ]
        },
        {
          "output_type": "stream",
          "name": "stderr",
          "text": [
            "     19/100      1.45G      1.274     0.7491      1.187          6        640: 100%|██████████| 100/100 [00:16<00:00,  5.93it/s]\n",
            "                 Class     Images  Instances      Box(P          R      mAP50  mAP50-95): 100%|██████████| 13/13 [00:01<00:00, 10.24it/s]"
          ]
        },
        {
          "output_type": "stream",
          "name": "stdout",
          "text": [
            "                   all        201        127      0.942      0.984      0.988       0.62\n"
          ]
        },
        {
          "output_type": "stream",
          "name": "stderr",
          "text": [
            "\n"
          ]
        },
        {
          "output_type": "stream",
          "name": "stdout",
          "text": [
            "\n",
            "      Epoch    GPU_mem   box_loss   cls_loss   dfl_loss  Instances       Size\n"
          ]
        },
        {
          "output_type": "stream",
          "name": "stderr",
          "text": [
            "     20/100      1.46G      1.308     0.7719      1.213          9        640: 100%|██████████| 100/100 [00:18<00:00,  5.46it/s]\n",
            "                 Class     Images  Instances      Box(P          R      mAP50  mAP50-95): 100%|██████████| 13/13 [00:01<00:00, 10.12it/s]"
          ]
        },
        {
          "output_type": "stream",
          "name": "stdout",
          "text": [
            "                   all        201        127      0.982      0.992      0.994      0.641\n"
          ]
        },
        {
          "output_type": "stream",
          "name": "stderr",
          "text": [
            "\n"
          ]
        },
        {
          "output_type": "stream",
          "name": "stdout",
          "text": [
            "\n",
            "      Epoch    GPU_mem   box_loss   cls_loss   dfl_loss  Instances       Size\n"
          ]
        },
        {
          "output_type": "stream",
          "name": "stderr",
          "text": [
            "     21/100      1.48G      1.298      0.743      1.196          9        640: 100%|██████████| 100/100 [00:17<00:00,  5.86it/s]\n",
            "                 Class     Images  Instances      Box(P          R      mAP50  mAP50-95): 100%|██████████| 13/13 [00:01<00:00, 10.61it/s]"
          ]
        },
        {
          "output_type": "stream",
          "name": "stdout",
          "text": [
            "                   all        201        127      0.957      0.976      0.992      0.644\n"
          ]
        },
        {
          "output_type": "stream",
          "name": "stderr",
          "text": [
            "\n"
          ]
        },
        {
          "output_type": "stream",
          "name": "stdout",
          "text": [
            "\n",
            "      Epoch    GPU_mem   box_loss   cls_loss   dfl_loss  Instances       Size\n"
          ]
        },
        {
          "output_type": "stream",
          "name": "stderr",
          "text": [
            "     22/100       1.5G      1.236     0.7182      1.158         11        640: 100%|██████████| 100/100 [00:17<00:00,  5.58it/s]\n",
            "                 Class     Images  Instances      Box(P          R      mAP50  mAP50-95): 100%|██████████| 13/13 [00:01<00:00,  9.98it/s]"
          ]
        },
        {
          "output_type": "stream",
          "name": "stdout",
          "text": [
            "                   all        201        127      0.992      0.978      0.993      0.636\n"
          ]
        },
        {
          "output_type": "stream",
          "name": "stderr",
          "text": [
            "\n"
          ]
        },
        {
          "output_type": "stream",
          "name": "stdout",
          "text": [
            "\n",
            "      Epoch    GPU_mem   box_loss   cls_loss   dfl_loss  Instances       Size\n"
          ]
        },
        {
          "output_type": "stream",
          "name": "stderr",
          "text": [
            "     23/100      1.51G      1.268     0.7332      1.185          9        640: 100%|██████████| 100/100 [00:16<00:00,  5.93it/s]\n",
            "                 Class     Images  Instances      Box(P          R      mAP50  mAP50-95): 100%|██████████| 13/13 [00:01<00:00, 10.72it/s]"
          ]
        },
        {
          "output_type": "stream",
          "name": "stdout",
          "text": [
            "                   all        201        127      0.969      0.974      0.992      0.642\n"
          ]
        },
        {
          "output_type": "stream",
          "name": "stderr",
          "text": [
            "\n"
          ]
        },
        {
          "output_type": "stream",
          "name": "stdout",
          "text": [
            "\n",
            "      Epoch    GPU_mem   box_loss   cls_loss   dfl_loss  Instances       Size\n"
          ]
        },
        {
          "output_type": "stream",
          "name": "stderr",
          "text": [
            "     24/100      1.53G      1.269     0.7462       1.18          2        640: 100%|██████████| 100/100 [00:17<00:00,  5.70it/s]\n",
            "                 Class     Images  Instances      Box(P          R      mAP50  mAP50-95): 100%|██████████| 13/13 [00:01<00:00,  6.52it/s]"
          ]
        },
        {
          "output_type": "stream",
          "name": "stdout",
          "text": [
            "                   all        201        127       0.98      0.976      0.992      0.654\n"
          ]
        },
        {
          "output_type": "stream",
          "name": "stderr",
          "text": [
            "\n"
          ]
        },
        {
          "output_type": "stream",
          "name": "stdout",
          "text": [
            "\n",
            "      Epoch    GPU_mem   box_loss   cls_loss   dfl_loss  Instances       Size\n"
          ]
        },
        {
          "output_type": "stream",
          "name": "stderr",
          "text": [
            "     25/100      1.54G      1.268     0.7113      1.199          4        640: 100%|██████████| 100/100 [00:16<00:00,  5.94it/s]\n",
            "                 Class     Images  Instances      Box(P          R      mAP50  mAP50-95): 100%|██████████| 13/13 [00:01<00:00, 10.12it/s]"
          ]
        },
        {
          "output_type": "stream",
          "name": "stdout",
          "text": [
            "                   all        201        127      0.968      0.938      0.988      0.645\n"
          ]
        },
        {
          "output_type": "stream",
          "name": "stderr",
          "text": [
            "\n"
          ]
        },
        {
          "output_type": "stream",
          "name": "stdout",
          "text": [
            "\n",
            "      Epoch    GPU_mem   box_loss   cls_loss   dfl_loss  Instances       Size\n"
          ]
        },
        {
          "output_type": "stream",
          "name": "stderr",
          "text": [
            "     26/100      1.55G      1.277     0.6904      1.182          4        640: 100%|██████████| 100/100 [00:17<00:00,  5.85it/s]\n",
            "                 Class     Images  Instances      Box(P          R      mAP50  mAP50-95): 100%|██████████| 13/13 [00:02<00:00,  6.00it/s]"
          ]
        },
        {
          "output_type": "stream",
          "name": "stdout",
          "text": [
            "                   all        201        127      0.969      0.975      0.992      0.648\n"
          ]
        },
        {
          "output_type": "stream",
          "name": "stderr",
          "text": [
            "\n"
          ]
        },
        {
          "output_type": "stream",
          "name": "stdout",
          "text": [
            "\n",
            "      Epoch    GPU_mem   box_loss   cls_loss   dfl_loss  Instances       Size\n"
          ]
        },
        {
          "output_type": "stream",
          "name": "stderr",
          "text": [
            "     27/100      1.57G      1.218     0.6632      1.162         12        640: 100%|██████████| 100/100 [00:16<00:00,  6.01it/s]\n",
            "                 Class     Images  Instances      Box(P          R      mAP50  mAP50-95): 100%|██████████| 13/13 [00:01<00:00, 10.38it/s]"
          ]
        },
        {
          "output_type": "stream",
          "name": "stdout",
          "text": [
            "                   all        201        127      0.984      0.984      0.991      0.669\n"
          ]
        },
        {
          "output_type": "stream",
          "name": "stderr",
          "text": [
            "\n"
          ]
        },
        {
          "output_type": "stream",
          "name": "stdout",
          "text": [
            "\n",
            "      Epoch    GPU_mem   box_loss   cls_loss   dfl_loss  Instances       Size\n"
          ]
        },
        {
          "output_type": "stream",
          "name": "stderr",
          "text": [
            "     28/100      1.58G      1.237     0.6549       1.16         11        640: 100%|██████████| 100/100 [00:16<00:00,  5.97it/s]\n",
            "                 Class     Images  Instances      Box(P          R      mAP50  mAP50-95): 100%|██████████| 13/13 [00:01<00:00,  7.26it/s]"
          ]
        },
        {
          "output_type": "stream",
          "name": "stdout",
          "text": [
            "                   all        201        127      0.995      0.984      0.994      0.628\n"
          ]
        },
        {
          "output_type": "stream",
          "name": "stderr",
          "text": [
            "\n"
          ]
        },
        {
          "output_type": "stream",
          "name": "stdout",
          "text": [
            "\n",
            "      Epoch    GPU_mem   box_loss   cls_loss   dfl_loss  Instances       Size\n"
          ]
        },
        {
          "output_type": "stream",
          "name": "stderr",
          "text": [
            "     29/100       1.6G      1.318     0.7246      1.179          7        640: 100%|██████████| 100/100 [00:17<00:00,  5.68it/s]\n",
            "                 Class     Images  Instances      Box(P          R      mAP50  mAP50-95): 100%|██████████| 13/13 [00:01<00:00, 10.17it/s]\n"
          ]
        },
        {
          "output_type": "stream",
          "name": "stdout",
          "text": [
            "                   all        201        127      0.988      0.969      0.986      0.628\n",
            "\n",
            "      Epoch    GPU_mem   box_loss   cls_loss   dfl_loss  Instances       Size\n"
          ]
        },
        {
          "output_type": "stream",
          "name": "stderr",
          "text": [
            "     30/100      1.61G      1.234     0.6957       1.14          6        640: 100%|██████████| 100/100 [00:17<00:00,  5.86it/s]\n",
            "                 Class     Images  Instances      Box(P          R      mAP50  mAP50-95): 100%|██████████| 13/13 [00:01<00:00,  9.42it/s]"
          ]
        },
        {
          "output_type": "stream",
          "name": "stdout",
          "text": [
            "                   all        201        127      0.968      0.976      0.992      0.671\n"
          ]
        },
        {
          "output_type": "stream",
          "name": "stderr",
          "text": [
            "\n"
          ]
        },
        {
          "output_type": "stream",
          "name": "stdout",
          "text": [
            "\n",
            "      Epoch    GPU_mem   box_loss   cls_loss   dfl_loss  Instances       Size\n"
          ]
        },
        {
          "output_type": "stream",
          "name": "stderr",
          "text": [
            "     31/100      1.63G      1.216     0.6506      1.151         11        640: 100%|██████████| 100/100 [00:17<00:00,  5.64it/s]\n",
            "                 Class     Images  Instances      Box(P          R      mAP50  mAP50-95): 100%|██████████| 13/13 [00:01<00:00, 10.30it/s]"
          ]
        },
        {
          "output_type": "stream",
          "name": "stdout",
          "text": [
            "                   all        201        127       0.99      0.969      0.994      0.673\n"
          ]
        },
        {
          "output_type": "stream",
          "name": "stderr",
          "text": [
            "\n"
          ]
        },
        {
          "output_type": "stream",
          "name": "stdout",
          "text": [
            "\n",
            "      Epoch    GPU_mem   box_loss   cls_loss   dfl_loss  Instances       Size\n"
          ]
        },
        {
          "output_type": "stream",
          "name": "stderr",
          "text": [
            "     32/100      1.64G      1.233      0.647      1.164          6        640: 100%|██████████| 100/100 [00:16<00:00,  5.97it/s]\n",
            "                 Class     Images  Instances      Box(P          R      mAP50  mAP50-95): 100%|██████████| 13/13 [00:01<00:00, 10.26it/s]"
          ]
        },
        {
          "output_type": "stream",
          "name": "stdout",
          "text": [
            "                   all        201        127      0.997      0.961      0.994      0.681\n"
          ]
        },
        {
          "output_type": "stream",
          "name": "stderr",
          "text": [
            "\n"
          ]
        },
        {
          "output_type": "stream",
          "name": "stdout",
          "text": [
            "\n",
            "      Epoch    GPU_mem   box_loss   cls_loss   dfl_loss  Instances       Size\n"
          ]
        },
        {
          "output_type": "stream",
          "name": "stderr",
          "text": [
            "     33/100      1.66G      1.205     0.6274      1.144          7        640: 100%|██████████| 100/100 [00:18<00:00,  5.55it/s]\n",
            "                 Class     Images  Instances      Box(P          R      mAP50  mAP50-95): 100%|██████████| 13/13 [00:01<00:00, 10.48it/s]"
          ]
        },
        {
          "output_type": "stream",
          "name": "stdout",
          "text": [
            "                   all        201        127      0.984      0.983      0.993      0.665\n"
          ]
        },
        {
          "output_type": "stream",
          "name": "stderr",
          "text": [
            "\n"
          ]
        },
        {
          "output_type": "stream",
          "name": "stdout",
          "text": [
            "\n",
            "      Epoch    GPU_mem   box_loss   cls_loss   dfl_loss  Instances       Size\n"
          ]
        },
        {
          "output_type": "stream",
          "name": "stderr",
          "text": [
            "     34/100      1.67G      1.177     0.6416      1.142          9        640: 100%|██████████| 100/100 [00:17<00:00,  5.87it/s]\n",
            "                 Class     Images  Instances      Box(P          R      mAP50  mAP50-95): 100%|██████████| 13/13 [00:01<00:00, 10.45it/s]"
          ]
        },
        {
          "output_type": "stream",
          "name": "stdout",
          "text": [
            "                   all        201        127      0.982      0.976      0.993      0.668\n"
          ]
        },
        {
          "output_type": "stream",
          "name": "stderr",
          "text": [
            "\n"
          ]
        },
        {
          "output_type": "stream",
          "name": "stdout",
          "text": [
            "\n",
            "      Epoch    GPU_mem   box_loss   cls_loss   dfl_loss  Instances       Size\n"
          ]
        },
        {
          "output_type": "stream",
          "name": "stderr",
          "text": [
            "     35/100      1.69G      1.191     0.6379      1.141          5        640: 100%|██████████| 100/100 [00:17<00:00,  5.56it/s]\n",
            "                 Class     Images  Instances      Box(P          R      mAP50  mAP50-95): 100%|██████████| 13/13 [00:01<00:00,  9.78it/s]"
          ]
        },
        {
          "output_type": "stream",
          "name": "stdout",
          "text": [
            "                   all        201        127      0.992      0.973      0.992      0.673\n"
          ]
        },
        {
          "output_type": "stream",
          "name": "stderr",
          "text": [
            "\n"
          ]
        },
        {
          "output_type": "stream",
          "name": "stdout",
          "text": [
            "\n",
            "      Epoch    GPU_mem   box_loss   cls_loss   dfl_loss  Instances       Size\n"
          ]
        },
        {
          "output_type": "stream",
          "name": "stderr",
          "text": [
            "     36/100       1.7G      1.181     0.6068      1.126         13        640: 100%|██████████| 100/100 [00:17<00:00,  5.80it/s]\n",
            "                 Class     Images  Instances      Box(P          R      mAP50  mAP50-95): 100%|██████████| 13/13 [00:01<00:00, 10.47it/s]"
          ]
        },
        {
          "output_type": "stream",
          "name": "stdout",
          "text": [
            "                   all        201        127      0.984      0.965      0.992      0.681\n"
          ]
        },
        {
          "output_type": "stream",
          "name": "stderr",
          "text": [
            "\n"
          ]
        },
        {
          "output_type": "stream",
          "name": "stdout",
          "text": [
            "\n",
            "      Epoch    GPU_mem   box_loss   cls_loss   dfl_loss  Instances       Size\n"
          ]
        },
        {
          "output_type": "stream",
          "name": "stderr",
          "text": [
            "     37/100      1.72G      1.152     0.6145      1.131          3        640: 100%|██████████| 100/100 [00:18<00:00,  5.52it/s]\n",
            "                 Class     Images  Instances      Box(P          R      mAP50  mAP50-95): 100%|██████████| 13/13 [00:01<00:00, 10.51it/s]"
          ]
        },
        {
          "output_type": "stream",
          "name": "stdout",
          "text": [
            "                   all        201        127      0.988      0.984      0.994       0.69\n"
          ]
        },
        {
          "output_type": "stream",
          "name": "stderr",
          "text": [
            "\n"
          ]
        },
        {
          "output_type": "stream",
          "name": "stdout",
          "text": [
            "\n",
            "      Epoch    GPU_mem   box_loss   cls_loss   dfl_loss  Instances       Size\n"
          ]
        },
        {
          "output_type": "stream",
          "name": "stderr",
          "text": [
            "     38/100      1.73G      1.167     0.6199      1.127          3        640: 100%|██████████| 100/100 [00:16<00:00,  5.93it/s]\n",
            "                 Class     Images  Instances      Box(P          R      mAP50  mAP50-95): 100%|██████████| 13/13 [00:01<00:00, 10.20it/s]"
          ]
        },
        {
          "output_type": "stream",
          "name": "stdout",
          "text": [
            "                   all        201        127      0.976       0.98      0.992      0.685\n"
          ]
        },
        {
          "output_type": "stream",
          "name": "stderr",
          "text": [
            "\n"
          ]
        },
        {
          "output_type": "stream",
          "name": "stdout",
          "text": [
            "\n",
            "      Epoch    GPU_mem   box_loss   cls_loss   dfl_loss  Instances       Size\n"
          ]
        },
        {
          "output_type": "stream",
          "name": "stderr",
          "text": [
            "     39/100      1.75G      1.183     0.5989      1.145          1        640: 100%|██████████| 100/100 [00:17<00:00,  5.57it/s]\n",
            "                 Class     Images  Instances      Box(P          R      mAP50  mAP50-95): 100%|██████████| 13/13 [00:01<00:00,  9.43it/s]"
          ]
        },
        {
          "output_type": "stream",
          "name": "stdout",
          "text": [
            "                   all        201        127      0.984      0.981      0.989      0.662\n"
          ]
        },
        {
          "output_type": "stream",
          "name": "stderr",
          "text": [
            "\n"
          ]
        },
        {
          "output_type": "stream",
          "name": "stdout",
          "text": [
            "\n",
            "      Epoch    GPU_mem   box_loss   cls_loss   dfl_loss  Instances       Size\n"
          ]
        },
        {
          "output_type": "stream",
          "name": "stderr",
          "text": [
            "     40/100      1.76G      1.191     0.5981      1.148          6        640: 100%|██████████| 100/100 [00:16<00:00,  5.94it/s]\n",
            "                 Class     Images  Instances      Box(P          R      mAP50  mAP50-95): 100%|██████████| 13/13 [00:01<00:00, 10.82it/s]"
          ]
        },
        {
          "output_type": "stream",
          "name": "stdout",
          "text": [
            "                   all        201        127      0.984      0.982      0.993      0.681\n"
          ]
        },
        {
          "output_type": "stream",
          "name": "stderr",
          "text": [
            "\n"
          ]
        },
        {
          "output_type": "stream",
          "name": "stdout",
          "text": [
            "\n",
            "      Epoch    GPU_mem   box_loss   cls_loss   dfl_loss  Instances       Size\n"
          ]
        },
        {
          "output_type": "stream",
          "name": "stderr",
          "text": [
            "     41/100      1.78G      1.171     0.6147      1.135         10        640: 100%|██████████| 100/100 [00:17<00:00,  5.76it/s]\n",
            "                 Class     Images  Instances      Box(P          R      mAP50  mAP50-95): 100%|██████████| 13/13 [00:01<00:00,  6.56it/s]"
          ]
        },
        {
          "output_type": "stream",
          "name": "stdout",
          "text": [
            "                   all        201        127      0.985      0.969      0.992      0.654\n"
          ]
        },
        {
          "output_type": "stream",
          "name": "stderr",
          "text": [
            "\n"
          ]
        },
        {
          "output_type": "stream",
          "name": "stdout",
          "text": [
            "\n",
            "      Epoch    GPU_mem   box_loss   cls_loss   dfl_loss  Instances       Size\n"
          ]
        },
        {
          "output_type": "stream",
          "name": "stderr",
          "text": [
            "     42/100      1.79G      1.139     0.6229       1.12          9        640: 100%|██████████| 100/100 [00:17<00:00,  5.88it/s]\n",
            "                 Class     Images  Instances      Box(P          R      mAP50  mAP50-95): 100%|██████████| 13/13 [00:01<00:00, 10.53it/s]"
          ]
        },
        {
          "output_type": "stream",
          "name": "stdout",
          "text": [
            "                   all        201        127      0.992      0.984      0.995      0.665\n"
          ]
        },
        {
          "output_type": "stream",
          "name": "stderr",
          "text": [
            "\n"
          ]
        },
        {
          "output_type": "stream",
          "name": "stdout",
          "text": [
            "\n",
            "      Epoch    GPU_mem   box_loss   cls_loss   dfl_loss  Instances       Size\n"
          ]
        },
        {
          "output_type": "stream",
          "name": "stderr",
          "text": [
            "     43/100       1.8G      1.189     0.6009      1.139         12        640: 100%|██████████| 100/100 [00:17<00:00,  5.83it/s]\n",
            "                 Class     Images  Instances      Box(P          R      mAP50  mAP50-95): 100%|██████████| 13/13 [00:02<00:00,  5.95it/s]\n"
          ]
        },
        {
          "output_type": "stream",
          "name": "stdout",
          "text": [
            "                   all        201        127       0.99      0.992      0.995      0.682\n",
            "\n",
            "      Epoch    GPU_mem   box_loss   cls_loss   dfl_loss  Instances       Size\n"
          ]
        },
        {
          "output_type": "stream",
          "name": "stderr",
          "text": [
            "     44/100      1.82G       1.15     0.5982      1.116          9        640: 100%|██████████| 100/100 [00:16<00:00,  5.91it/s]\n",
            "                 Class     Images  Instances      Box(P          R      mAP50  mAP50-95): 100%|██████████| 13/13 [00:01<00:00, 10.44it/s]"
          ]
        },
        {
          "output_type": "stream",
          "name": "stdout",
          "text": [
            "                   all        201        127      0.977      0.995      0.992      0.678\n"
          ]
        },
        {
          "output_type": "stream",
          "name": "stderr",
          "text": [
            "\n"
          ]
        },
        {
          "output_type": "stream",
          "name": "stdout",
          "text": [
            "\n",
            "      Epoch    GPU_mem   box_loss   cls_loss   dfl_loss  Instances       Size\n"
          ]
        },
        {
          "output_type": "stream",
          "name": "stderr",
          "text": [
            "     45/100      1.84G      1.163     0.5989      1.112         13        640: 100%|██████████| 100/100 [00:17<00:00,  5.88it/s]\n",
            "                 Class     Images  Instances      Box(P          R      mAP50  mAP50-95): 100%|██████████| 13/13 [00:01<00:00,  7.30it/s]"
          ]
        },
        {
          "output_type": "stream",
          "name": "stdout",
          "text": [
            "                   all        201        127      0.995      0.976      0.994       0.69\n"
          ]
        },
        {
          "output_type": "stream",
          "name": "stderr",
          "text": [
            "\n"
          ]
        },
        {
          "output_type": "stream",
          "name": "stdout",
          "text": [
            "\n",
            "      Epoch    GPU_mem   box_loss   cls_loss   dfl_loss  Instances       Size\n"
          ]
        },
        {
          "output_type": "stream",
          "name": "stderr",
          "text": [
            "     46/100      1.85G      1.122     0.5823      1.097          5        640: 100%|██████████| 100/100 [00:17<00:00,  5.76it/s]\n",
            "                 Class     Images  Instances      Box(P          R      mAP50  mAP50-95): 100%|██████████| 13/13 [00:01<00:00, 10.27it/s]"
          ]
        },
        {
          "output_type": "stream",
          "name": "stdout",
          "text": [
            "                   all        201        127      0.982      0.984      0.994      0.681\n"
          ]
        },
        {
          "output_type": "stream",
          "name": "stderr",
          "text": [
            "\n"
          ]
        },
        {
          "output_type": "stream",
          "name": "stdout",
          "text": [
            "\n",
            "      Epoch    GPU_mem   box_loss   cls_loss   dfl_loss  Instances       Size\n"
          ]
        },
        {
          "output_type": "stream",
          "name": "stderr",
          "text": [
            "     47/100      1.87G      1.141     0.5925      1.109          7        640: 100%|██████████| 100/100 [00:17<00:00,  5.86it/s]\n",
            "                 Class     Images  Instances      Box(P          R      mAP50  mAP50-95): 100%|██████████| 13/13 [00:01<00:00, 10.67it/s]"
          ]
        },
        {
          "output_type": "stream",
          "name": "stdout",
          "text": [
            "                   all        201        127      0.984      0.985      0.995      0.682\n"
          ]
        },
        {
          "output_type": "stream",
          "name": "stderr",
          "text": [
            "\n"
          ]
        },
        {
          "output_type": "stream",
          "name": "stdout",
          "text": [
            "\n",
            "      Epoch    GPU_mem   box_loss   cls_loss   dfl_loss  Instances       Size\n"
          ]
        },
        {
          "output_type": "stream",
          "name": "stderr",
          "text": [
            "     48/100      1.88G      1.125     0.5629      1.107         13        640: 100%|██████████| 100/100 [00:17<00:00,  5.57it/s]\n",
            "                 Class     Images  Instances      Box(P          R      mAP50  mAP50-95): 100%|██████████| 13/13 [00:01<00:00, 10.89it/s]"
          ]
        },
        {
          "output_type": "stream",
          "name": "stdout",
          "text": [
            "                   all        201        127      0.995      0.984      0.995      0.698\n"
          ]
        },
        {
          "output_type": "stream",
          "name": "stderr",
          "text": [
            "\n"
          ]
        },
        {
          "output_type": "stream",
          "name": "stdout",
          "text": [
            "\n",
            "      Epoch    GPU_mem   box_loss   cls_loss   dfl_loss  Instances       Size\n"
          ]
        },
        {
          "output_type": "stream",
          "name": "stderr",
          "text": [
            "     49/100      1.89G       1.11     0.6089        1.1          8        640: 100%|██████████| 100/100 [00:16<00:00,  5.93it/s]\n",
            "                 Class     Images  Instances      Box(P          R      mAP50  mAP50-95): 100%|██████████| 13/13 [00:01<00:00, 10.81it/s]"
          ]
        },
        {
          "output_type": "stream",
          "name": "stdout",
          "text": [
            "                   all        201        127      0.999      0.984      0.995      0.687\n"
          ]
        },
        {
          "output_type": "stream",
          "name": "stderr",
          "text": [
            "\n"
          ]
        },
        {
          "output_type": "stream",
          "name": "stdout",
          "text": [
            "\n",
            "      Epoch    GPU_mem   box_loss   cls_loss   dfl_loss  Instances       Size\n"
          ]
        },
        {
          "output_type": "stream",
          "name": "stderr",
          "text": [
            "     50/100      1.91G       1.11      0.572      1.112         17        640: 100%|██████████| 100/100 [00:17<00:00,  5.59it/s]\n",
            "                 Class     Images  Instances      Box(P          R      mAP50  mAP50-95): 100%|██████████| 13/13 [00:01<00:00, 10.55it/s]"
          ]
        },
        {
          "output_type": "stream",
          "name": "stdout",
          "text": [
            "                   all        201        127      0.992       0.99      0.995      0.677\n"
          ]
        },
        {
          "output_type": "stream",
          "name": "stderr",
          "text": [
            "\n"
          ]
        },
        {
          "output_type": "stream",
          "name": "stdout",
          "text": [
            "\n",
            "      Epoch    GPU_mem   box_loss   cls_loss   dfl_loss  Instances       Size\n"
          ]
        },
        {
          "output_type": "stream",
          "name": "stderr",
          "text": [
            "     51/100      1.92G       1.08      0.576      1.096          8        640: 100%|██████████| 100/100 [00:16<00:00,  5.94it/s]\n",
            "                 Class     Images  Instances      Box(P          R      mAP50  mAP50-95): 100%|██████████| 13/13 [00:01<00:00,  9.91it/s]"
          ]
        },
        {
          "output_type": "stream",
          "name": "stdout",
          "text": [
            "                   all        201        127          1      0.976      0.994      0.702\n"
          ]
        },
        {
          "output_type": "stream",
          "name": "stderr",
          "text": [
            "\n"
          ]
        },
        {
          "output_type": "stream",
          "name": "stdout",
          "text": [
            "\n",
            "      Epoch    GPU_mem   box_loss   cls_loss   dfl_loss  Instances       Size\n"
          ]
        },
        {
          "output_type": "stream",
          "name": "stderr",
          "text": [
            "     52/100      1.94G       1.13     0.5911      1.121         13        640: 100%|██████████| 100/100 [00:18<00:00,  5.49it/s]\n",
            "                 Class     Images  Instances      Box(P          R      mAP50  mAP50-95): 100%|██████████| 13/13 [00:01<00:00, 11.03it/s]"
          ]
        },
        {
          "output_type": "stream",
          "name": "stdout",
          "text": [
            "                   all        201        127      0.984      0.976       0.99      0.689\n"
          ]
        },
        {
          "output_type": "stream",
          "name": "stderr",
          "text": [
            "\n"
          ]
        },
        {
          "output_type": "stream",
          "name": "stdout",
          "text": [
            "\n",
            "      Epoch    GPU_mem   box_loss   cls_loss   dfl_loss  Instances       Size\n"
          ]
        },
        {
          "output_type": "stream",
          "name": "stderr",
          "text": [
            "     53/100      1.95G      1.118     0.5747      1.104          7        640: 100%|██████████| 100/100 [00:16<00:00,  5.93it/s]\n",
            "                 Class     Images  Instances      Box(P          R      mAP50  mAP50-95): 100%|██████████| 13/13 [00:01<00:00, 10.83it/s]"
          ]
        },
        {
          "output_type": "stream",
          "name": "stdout",
          "text": [
            "                   all        201        127      0.994      0.969      0.995      0.686\n"
          ]
        },
        {
          "output_type": "stream",
          "name": "stderr",
          "text": [
            "\n"
          ]
        },
        {
          "output_type": "stream",
          "name": "stdout",
          "text": [
            "\n",
            "      Epoch    GPU_mem   box_loss   cls_loss   dfl_loss  Instances       Size\n"
          ]
        },
        {
          "output_type": "stream",
          "name": "stderr",
          "text": [
            "     54/100      1.97G      1.079     0.5615      1.091          8        640: 100%|██████████| 100/100 [00:17<00:00,  5.86it/s]\n",
            "                 Class     Images  Instances      Box(P          R      mAP50  mAP50-95): 100%|██████████| 13/13 [00:01<00:00,  6.78it/s]"
          ]
        },
        {
          "output_type": "stream",
          "name": "stdout",
          "text": [
            "                   all        201        127      0.986      0.976      0.994      0.679\n"
          ]
        },
        {
          "output_type": "stream",
          "name": "stderr",
          "text": [
            "\n"
          ]
        },
        {
          "output_type": "stream",
          "name": "stdout",
          "text": [
            "\n",
            "      Epoch    GPU_mem   box_loss   cls_loss   dfl_loss  Instances       Size\n"
          ]
        },
        {
          "output_type": "stream",
          "name": "stderr",
          "text": [
            "     55/100      1.98G      1.067     0.5529      1.089          4        640: 100%|██████████| 100/100 [00:16<00:00,  5.92it/s]\n",
            "                 Class     Images  Instances      Box(P          R      mAP50  mAP50-95): 100%|██████████| 13/13 [00:01<00:00, 10.83it/s]"
          ]
        },
        {
          "output_type": "stream",
          "name": "stdout",
          "text": [
            "                   all        201        127      0.984      0.992      0.994       0.67\n"
          ]
        },
        {
          "output_type": "stream",
          "name": "stderr",
          "text": [
            "\n"
          ]
        },
        {
          "output_type": "stream",
          "name": "stdout",
          "text": [
            "\n",
            "      Epoch    GPU_mem   box_loss   cls_loss   dfl_loss  Instances       Size\n"
          ]
        },
        {
          "output_type": "stream",
          "name": "stderr",
          "text": [
            "     56/100         2G      1.098     0.5627      1.112          4        640: 100%|██████████| 100/100 [00:17<00:00,  5.82it/s]\n",
            "                 Class     Images  Instances      Box(P          R      mAP50  mAP50-95): 100%|██████████| 13/13 [00:02<00:00,  6.17it/s]"
          ]
        },
        {
          "output_type": "stream",
          "name": "stdout",
          "text": [
            "                   all        201        127      0.977      0.998      0.994       0.69\n"
          ]
        },
        {
          "output_type": "stream",
          "name": "stderr",
          "text": [
            "\n"
          ]
        },
        {
          "output_type": "stream",
          "name": "stdout",
          "text": [
            "\n",
            "      Epoch    GPU_mem   box_loss   cls_loss   dfl_loss  Instances       Size\n"
          ]
        },
        {
          "output_type": "stream",
          "name": "stderr",
          "text": [
            "     57/100      2.01G      1.105     0.5433       1.11          7        640: 100%|██████████| 100/100 [00:16<00:00,  5.91it/s]\n",
            "                 Class     Images  Instances      Box(P          R      mAP50  mAP50-95): 100%|██████████| 13/13 [00:01<00:00, 11.18it/s]"
          ]
        },
        {
          "output_type": "stream",
          "name": "stdout",
          "text": [
            "                   all        201        127      0.984      0.982      0.993      0.681\n"
          ]
        },
        {
          "output_type": "stream",
          "name": "stderr",
          "text": [
            "\n"
          ]
        },
        {
          "output_type": "stream",
          "name": "stdout",
          "text": [
            "\n",
            "      Epoch    GPU_mem   box_loss   cls_loss   dfl_loss  Instances       Size\n"
          ]
        },
        {
          "output_type": "stream",
          "name": "stderr",
          "text": [
            "     58/100      2.03G      1.121     0.5562      1.114          4        640: 100%|██████████| 100/100 [00:16<00:00,  5.89it/s]\n",
            "                 Class     Images  Instances      Box(P          R      mAP50  mAP50-95): 100%|██████████| 13/13 [00:01<00:00,  9.08it/s]"
          ]
        },
        {
          "output_type": "stream",
          "name": "stdout",
          "text": [
            "                   all        201        127      0.979      0.984      0.994      0.683\n"
          ]
        },
        {
          "output_type": "stream",
          "name": "stderr",
          "text": [
            "\n"
          ]
        },
        {
          "output_type": "stream",
          "name": "stdout",
          "text": [
            "\n",
            "      Epoch    GPU_mem   box_loss   cls_loss   dfl_loss  Instances       Size\n"
          ]
        },
        {
          "output_type": "stream",
          "name": "stderr",
          "text": [
            "     59/100      2.04G      1.106     0.5534      1.102          5        640: 100%|██████████| 100/100 [00:17<00:00,  5.58it/s]\n",
            "                 Class     Images  Instances      Box(P          R      mAP50  mAP50-95): 100%|██████████| 13/13 [00:01<00:00, 10.65it/s]"
          ]
        },
        {
          "output_type": "stream",
          "name": "stdout",
          "text": [
            "                   all        201        127      0.977      0.992      0.993      0.678\n"
          ]
        },
        {
          "output_type": "stream",
          "name": "stderr",
          "text": [
            "\n"
          ]
        },
        {
          "output_type": "stream",
          "name": "stdout",
          "text": [
            "\n",
            "      Epoch    GPU_mem   box_loss   cls_loss   dfl_loss  Instances       Size\n"
          ]
        },
        {
          "output_type": "stream",
          "name": "stderr",
          "text": [
            "     60/100      2.06G      1.091     0.5595      1.082          5        640: 100%|██████████| 100/100 [00:17<00:00,  5.85it/s]\n",
            "                 Class     Images  Instances      Box(P          R      mAP50  mAP50-95): 100%|██████████| 13/13 [00:01<00:00,  9.86it/s]"
          ]
        },
        {
          "output_type": "stream",
          "name": "stdout",
          "text": [
            "                   all        201        127          1      0.984      0.995      0.697\n"
          ]
        },
        {
          "output_type": "stream",
          "name": "stderr",
          "text": [
            "\n"
          ]
        },
        {
          "output_type": "stream",
          "name": "stdout",
          "text": [
            "\n",
            "      Epoch    GPU_mem   box_loss   cls_loss   dfl_loss  Instances       Size\n"
          ]
        },
        {
          "output_type": "stream",
          "name": "stderr",
          "text": [
            "     61/100      2.07G      1.123     0.5476      1.101          7        640: 100%|██████████| 100/100 [00:17<00:00,  5.60it/s]\n",
            "                 Class     Images  Instances      Box(P          R      mAP50  mAP50-95): 100%|██████████| 13/13 [00:01<00:00, 10.28it/s]"
          ]
        },
        {
          "output_type": "stream",
          "name": "stdout",
          "text": [
            "                   all        201        127       0.99      0.984      0.995      0.705\n"
          ]
        },
        {
          "output_type": "stream",
          "name": "stderr",
          "text": [
            "\n"
          ]
        },
        {
          "output_type": "stream",
          "name": "stdout",
          "text": [
            "\n",
            "      Epoch    GPU_mem   box_loss   cls_loss   dfl_loss  Instances       Size\n"
          ]
        },
        {
          "output_type": "stream",
          "name": "stderr",
          "text": [
            "     62/100      2.09G      1.109     0.5547      1.098          9        640: 100%|██████████| 100/100 [00:17<00:00,  5.85it/s]\n",
            "                 Class     Images  Instances      Box(P          R      mAP50  mAP50-95): 100%|██████████| 13/13 [00:01<00:00, 10.54it/s]"
          ]
        },
        {
          "output_type": "stream",
          "name": "stdout",
          "text": [
            "                   all        201        127      0.984      0.984      0.994      0.701\n"
          ]
        },
        {
          "output_type": "stream",
          "name": "stderr",
          "text": [
            "\n"
          ]
        },
        {
          "output_type": "stream",
          "name": "stdout",
          "text": [
            "\n",
            "      Epoch    GPU_mem   box_loss   cls_loss   dfl_loss  Instances       Size\n"
          ]
        },
        {
          "output_type": "stream",
          "name": "stderr",
          "text": [
            "     63/100       2.1G      1.115     0.5581      1.094          5        640: 100%|██████████| 100/100 [00:18<00:00,  5.40it/s]\n",
            "                 Class     Images  Instances      Box(P          R      mAP50  mAP50-95): 100%|██████████| 13/13 [00:01<00:00, 10.60it/s]"
          ]
        },
        {
          "output_type": "stream",
          "name": "stdout",
          "text": [
            "                   all        201        127      0.979      0.984      0.994      0.685\n"
          ]
        },
        {
          "output_type": "stream",
          "name": "stderr",
          "text": [
            "\n"
          ]
        },
        {
          "output_type": "stream",
          "name": "stdout",
          "text": [
            "\n",
            "      Epoch    GPU_mem   box_loss   cls_loss   dfl_loss  Instances       Size\n"
          ]
        },
        {
          "output_type": "stream",
          "name": "stderr",
          "text": [
            "     64/100      2.12G      1.055     0.5294       1.07         13        640: 100%|██████████| 100/100 [00:17<00:00,  5.82it/s]\n",
            "                 Class     Images  Instances      Box(P          R      mAP50  mAP50-95): 100%|██████████| 13/13 [00:01<00:00, 10.49it/s]"
          ]
        },
        {
          "output_type": "stream",
          "name": "stdout",
          "text": [
            "                   all        201        127      0.979      0.992      0.994      0.694\n"
          ]
        },
        {
          "output_type": "stream",
          "name": "stderr",
          "text": [
            "\n"
          ]
        },
        {
          "output_type": "stream",
          "name": "stdout",
          "text": [
            "\n",
            "      Epoch    GPU_mem   box_loss   cls_loss   dfl_loss  Instances       Size\n"
          ]
        },
        {
          "output_type": "stream",
          "name": "stderr",
          "text": [
            "     65/100      2.13G       1.07     0.5233      1.078          6        640: 100%|██████████| 100/100 [00:18<00:00,  5.49it/s]\n",
            "                 Class     Images  Instances      Box(P          R      mAP50  mAP50-95): 100%|██████████| 13/13 [00:01<00:00, 10.29it/s]"
          ]
        },
        {
          "output_type": "stream",
          "name": "stdout",
          "text": [
            "                   all        201        127      0.982      0.992      0.993      0.689\n"
          ]
        },
        {
          "output_type": "stream",
          "name": "stderr",
          "text": [
            "\n"
          ]
        },
        {
          "output_type": "stream",
          "name": "stdout",
          "text": [
            "\n",
            "      Epoch    GPU_mem   box_loss   cls_loss   dfl_loss  Instances       Size\n"
          ]
        },
        {
          "output_type": "stream",
          "name": "stderr",
          "text": [
            "     66/100      2.15G      1.083     0.5309      1.091          2        640: 100%|██████████| 100/100 [00:17<00:00,  5.82it/s]\n",
            "                 Class     Images  Instances      Box(P          R      mAP50  mAP50-95): 100%|██████████| 13/13 [00:01<00:00, 10.83it/s]"
          ]
        },
        {
          "output_type": "stream",
          "name": "stdout",
          "text": [
            "                   all        201        127      0.982      0.984      0.994      0.703\n"
          ]
        },
        {
          "output_type": "stream",
          "name": "stderr",
          "text": [
            "\n"
          ]
        },
        {
          "output_type": "stream",
          "name": "stdout",
          "text": [
            "\n",
            "      Epoch    GPU_mem   box_loss   cls_loss   dfl_loss  Instances       Size\n"
          ]
        },
        {
          "output_type": "stream",
          "name": "stderr",
          "text": [
            "     67/100      2.16G      1.107     0.5644      1.101          6        640: 100%|██████████| 100/100 [00:18<00:00,  5.49it/s]\n",
            "                 Class     Images  Instances      Box(P          R      mAP50  mAP50-95): 100%|██████████| 13/13 [00:01<00:00, 10.79it/s]"
          ]
        },
        {
          "output_type": "stream",
          "name": "stdout",
          "text": [
            "                   all        201        127      0.972      0.992      0.994      0.699\n"
          ]
        },
        {
          "output_type": "stream",
          "name": "stderr",
          "text": [
            "\n"
          ]
        },
        {
          "output_type": "stream",
          "name": "stdout",
          "text": [
            "\n",
            "      Epoch    GPU_mem   box_loss   cls_loss   dfl_loss  Instances       Size\n"
          ]
        },
        {
          "output_type": "stream",
          "name": "stderr",
          "text": [
            "     68/100      2.18G      1.061     0.5272      1.088         10        640: 100%|██████████| 100/100 [00:17<00:00,  5.80it/s]\n",
            "                 Class     Images  Instances      Box(P          R      mAP50  mAP50-95): 100%|██████████| 13/13 [00:01<00:00, 10.30it/s]"
          ]
        },
        {
          "output_type": "stream",
          "name": "stdout",
          "text": [
            "                   all        201        127      0.975      0.992      0.994      0.705\n"
          ]
        },
        {
          "output_type": "stream",
          "name": "stderr",
          "text": [
            "\n"
          ]
        },
        {
          "output_type": "stream",
          "name": "stdout",
          "text": [
            "\n",
            "      Epoch    GPU_mem   box_loss   cls_loss   dfl_loss  Instances       Size\n"
          ]
        },
        {
          "output_type": "stream",
          "name": "stderr",
          "text": [
            "     69/100      2.19G      1.066     0.5338      1.082          9        640: 100%|██████████| 100/100 [00:18<00:00,  5.49it/s]\n",
            "                 Class     Images  Instances      Box(P          R      mAP50  mAP50-95): 100%|██████████| 13/13 [00:01<00:00, 11.04it/s]"
          ]
        },
        {
          "output_type": "stream",
          "name": "stdout",
          "text": [
            "                   all        201        127      0.983      0.984      0.994      0.695\n"
          ]
        },
        {
          "output_type": "stream",
          "name": "stderr",
          "text": [
            "\n"
          ]
        },
        {
          "output_type": "stream",
          "name": "stdout",
          "text": [
            "\n",
            "      Epoch    GPU_mem   box_loss   cls_loss   dfl_loss  Instances       Size\n"
          ]
        },
        {
          "output_type": "stream",
          "name": "stderr",
          "text": [
            "     70/100      2.21G       1.05      0.509      1.063          4        640: 100%|██████████| 100/100 [00:17<00:00,  5.86it/s]\n",
            "                 Class     Images  Instances      Box(P          R      mAP50  mAP50-95): 100%|██████████| 13/13 [00:01<00:00, 10.76it/s]"
          ]
        },
        {
          "output_type": "stream",
          "name": "stdout",
          "text": [
            "                   all        201        127      0.977      0.983      0.993       0.69\n"
          ]
        },
        {
          "output_type": "stream",
          "name": "stderr",
          "text": [
            "\n"
          ]
        },
        {
          "output_type": "stream",
          "name": "stdout",
          "text": [
            "\n",
            "      Epoch    GPU_mem   box_loss   cls_loss   dfl_loss  Instances       Size\n"
          ]
        },
        {
          "output_type": "stream",
          "name": "stderr",
          "text": [
            "     71/100      2.22G      1.032     0.5036      1.071          3        640: 100%|██████████| 100/100 [00:18<00:00,  5.52it/s]\n",
            "                 Class     Images  Instances      Box(P          R      mAP50  mAP50-95): 100%|██████████| 13/13 [00:01<00:00, 10.86it/s]"
          ]
        },
        {
          "output_type": "stream",
          "name": "stdout",
          "text": [
            "                   all        201        127      0.984      0.993      0.994      0.696\n"
          ]
        },
        {
          "output_type": "stream",
          "name": "stderr",
          "text": [
            "\n"
          ]
        },
        {
          "output_type": "stream",
          "name": "stdout",
          "text": [
            "\n",
            "      Epoch    GPU_mem   box_loss   cls_loss   dfl_loss  Instances       Size\n"
          ]
        },
        {
          "output_type": "stream",
          "name": "stderr",
          "text": [
            "     72/100      2.23G      1.036     0.4997      1.085         12        640: 100%|██████████| 100/100 [00:16<00:00,  5.89it/s]\n",
            "                 Class     Images  Instances      Box(P          R      mAP50  mAP50-95): 100%|██████████| 13/13 [00:01<00:00, 10.91it/s]"
          ]
        },
        {
          "output_type": "stream",
          "name": "stdout",
          "text": [
            "                   all        201        127       0.99          1      0.995        0.7\n"
          ]
        },
        {
          "output_type": "stream",
          "name": "stderr",
          "text": [
            "\n"
          ]
        },
        {
          "output_type": "stream",
          "name": "stdout",
          "text": [
            "\n",
            "      Epoch    GPU_mem   box_loss   cls_loss   dfl_loss  Instances       Size\n"
          ]
        },
        {
          "output_type": "stream",
          "name": "stderr",
          "text": [
            "     73/100      2.25G      1.043     0.5038      1.066          5        640: 100%|██████████| 100/100 [00:18<00:00,  5.50it/s]\n",
            "                 Class     Images  Instances      Box(P          R      mAP50  mAP50-95): 100%|██████████| 13/13 [00:01<00:00,  9.16it/s]"
          ]
        },
        {
          "output_type": "stream",
          "name": "stdout",
          "text": [
            "                   all        201        127          1       0.99      0.995      0.695\n"
          ]
        },
        {
          "output_type": "stream",
          "name": "stderr",
          "text": [
            "\n"
          ]
        },
        {
          "output_type": "stream",
          "name": "stdout",
          "text": [
            "\n",
            "      Epoch    GPU_mem   box_loss   cls_loss   dfl_loss  Instances       Size\n"
          ]
        },
        {
          "output_type": "stream",
          "name": "stderr",
          "text": [
            "     74/100      2.26G      1.027     0.5505      1.068         11        640: 100%|██████████| 100/100 [00:17<00:00,  5.87it/s]\n",
            "                 Class     Images  Instances      Box(P          R      mAP50  mAP50-95): 100%|██████████| 13/13 [00:01<00:00, 10.46it/s]"
          ]
        },
        {
          "output_type": "stream",
          "name": "stdout",
          "text": [
            "                   all        201        127      0.984      0.983      0.994      0.702\n"
          ]
        },
        {
          "output_type": "stream",
          "name": "stderr",
          "text": [
            "\n"
          ]
        },
        {
          "output_type": "stream",
          "name": "stdout",
          "text": [
            "\n",
            "      Epoch    GPU_mem   box_loss   cls_loss   dfl_loss  Instances       Size\n"
          ]
        },
        {
          "output_type": "stream",
          "name": "stderr",
          "text": [
            "     75/100      2.28G      1.019     0.5108       1.06          6        640: 100%|██████████| 100/100 [00:17<00:00,  5.79it/s]\n",
            "                 Class     Images  Instances      Box(P          R      mAP50  mAP50-95): 100%|██████████| 13/13 [00:02<00:00,  6.41it/s]"
          ]
        },
        {
          "output_type": "stream",
          "name": "stdout",
          "text": [
            "                   all        201        127      0.997      0.992      0.995      0.706\n"
          ]
        },
        {
          "output_type": "stream",
          "name": "stderr",
          "text": [
            "\n"
          ]
        },
        {
          "output_type": "stream",
          "name": "stdout",
          "text": [
            "\n",
            "      Epoch    GPU_mem   box_loss   cls_loss   dfl_loss  Instances       Size\n"
          ]
        },
        {
          "output_type": "stream",
          "name": "stderr",
          "text": [
            "     76/100      2.29G      1.041     0.4961      1.084         12        640: 100%|██████████| 100/100 [00:17<00:00,  5.81it/s]\n",
            "                 Class     Images  Instances      Box(P          R      mAP50  mAP50-95): 100%|██████████| 13/13 [00:01<00:00, 10.73it/s]"
          ]
        },
        {
          "output_type": "stream",
          "name": "stdout",
          "text": [
            "                   all        201        127      0.991      0.992      0.995      0.704\n"
          ]
        },
        {
          "output_type": "stream",
          "name": "stderr",
          "text": [
            "\n"
          ]
        },
        {
          "output_type": "stream",
          "name": "stdout",
          "text": [
            "\n",
            "      Epoch    GPU_mem   box_loss   cls_loss   dfl_loss  Instances       Size\n"
          ]
        },
        {
          "output_type": "stream",
          "name": "stderr",
          "text": [
            "     77/100      2.31G      1.008      0.526      1.054          9        640: 100%|██████████| 100/100 [00:17<00:00,  5.75it/s]\n",
            "                 Class     Images  Instances      Box(P          R      mAP50  mAP50-95): 100%|██████████| 13/13 [00:02<00:00,  6.21it/s]"
          ]
        },
        {
          "output_type": "stream",
          "name": "stdout",
          "text": [
            "                   all        201        127      0.984      0.978      0.995      0.705\n"
          ]
        },
        {
          "output_type": "stream",
          "name": "stderr",
          "text": [
            "\n"
          ]
        },
        {
          "output_type": "stream",
          "name": "stdout",
          "text": [
            "\n",
            "      Epoch    GPU_mem   box_loss   cls_loss   dfl_loss  Instances       Size\n"
          ]
        },
        {
          "output_type": "stream",
          "name": "stderr",
          "text": [
            "     78/100      2.32G      1.003     0.4927      1.052         13        640: 100%|██████████| 100/100 [00:17<00:00,  5.84it/s]\n",
            "                 Class     Images  Instances      Box(P          R      mAP50  mAP50-95): 100%|██████████| 13/13 [00:01<00:00, 10.57it/s]"
          ]
        },
        {
          "output_type": "stream",
          "name": "stdout",
          "text": [
            "                   all        201        127      0.992      0.983      0.994      0.697\n"
          ]
        },
        {
          "output_type": "stream",
          "name": "stderr",
          "text": [
            "\n"
          ]
        },
        {
          "output_type": "stream",
          "name": "stdout",
          "text": [
            "\n",
            "      Epoch    GPU_mem   box_loss   cls_loss   dfl_loss  Instances       Size\n"
          ]
        },
        {
          "output_type": "stream",
          "name": "stderr",
          "text": [
            "     79/100      2.34G      1.003     0.4898      1.064         13        640: 100%|██████████| 100/100 [00:17<00:00,  5.76it/s]\n",
            "                 Class     Images  Instances      Box(P          R      mAP50  mAP50-95): 100%|██████████| 13/13 [00:02<00:00,  6.44it/s]\n"
          ]
        },
        {
          "output_type": "stream",
          "name": "stdout",
          "text": [
            "                   all        201        127      0.992      0.986      0.995      0.698\n",
            "\n",
            "      Epoch    GPU_mem   box_loss   cls_loss   dfl_loss  Instances       Size\n"
          ]
        },
        {
          "output_type": "stream",
          "name": "stderr",
          "text": [
            "     80/100      2.35G     0.9981     0.4955      1.062          5        640: 100%|██████████| 100/100 [00:17<00:00,  5.79it/s]\n",
            "                 Class     Images  Instances      Box(P          R      mAP50  mAP50-95): 100%|██████████| 13/13 [00:01<00:00, 10.99it/s]"
          ]
        },
        {
          "output_type": "stream",
          "name": "stdout",
          "text": [
            "                   all        201        127      0.996      0.976      0.995      0.692\n"
          ]
        },
        {
          "output_type": "stream",
          "name": "stderr",
          "text": [
            "\n"
          ]
        },
        {
          "output_type": "stream",
          "name": "stdout",
          "text": [
            "\n",
            "      Epoch    GPU_mem   box_loss   cls_loss   dfl_loss  Instances       Size\n"
          ]
        },
        {
          "output_type": "stream",
          "name": "stderr",
          "text": [
            "     81/100      2.37G      0.995      0.483      1.047         23        640: 100%|██████████| 100/100 [00:17<00:00,  5.85it/s]\n",
            "                 Class     Images  Instances      Box(P          R      mAP50  mAP50-95): 100%|██████████| 13/13 [00:01<00:00,  7.09it/s]"
          ]
        },
        {
          "output_type": "stream",
          "name": "stdout",
          "text": [
            "                   all        201        127      0.998      0.984      0.995        0.7\n"
          ]
        },
        {
          "output_type": "stream",
          "name": "stderr",
          "text": [
            "\n"
          ]
        },
        {
          "output_type": "stream",
          "name": "stdout",
          "text": [
            "\n",
            "      Epoch    GPU_mem   box_loss   cls_loss   dfl_loss  Instances       Size\n"
          ]
        },
        {
          "output_type": "stream",
          "name": "stderr",
          "text": [
            "     82/100      2.38G      1.014     0.4978      1.054         11        640: 100%|██████████| 100/100 [00:17<00:00,  5.65it/s]\n",
            "                 Class     Images  Instances      Box(P          R      mAP50  mAP50-95): 100%|██████████| 13/13 [00:01<00:00, 10.66it/s]"
          ]
        },
        {
          "output_type": "stream",
          "name": "stdout",
          "text": [
            "                   all        201        127      0.988      0.984      0.994      0.711\n"
          ]
        },
        {
          "output_type": "stream",
          "name": "stderr",
          "text": [
            "\n"
          ]
        },
        {
          "output_type": "stream",
          "name": "stdout",
          "text": [
            "\n",
            "      Epoch    GPU_mem   box_loss   cls_loss   dfl_loss  Instances       Size\n"
          ]
        },
        {
          "output_type": "stream",
          "name": "stderr",
          "text": [
            "     83/100       2.4G     0.9824     0.4804       1.04          5        640: 100%|██████████| 100/100 [00:17<00:00,  5.82it/s]\n",
            "                 Class     Images  Instances      Box(P          R      mAP50  mAP50-95): 100%|██████████| 13/13 [00:01<00:00,  7.98it/s]"
          ]
        },
        {
          "output_type": "stream",
          "name": "stdout",
          "text": [
            "                   all        201        127      0.989      0.976      0.993      0.707\n"
          ]
        },
        {
          "output_type": "stream",
          "name": "stderr",
          "text": [
            "\n"
          ]
        },
        {
          "output_type": "stream",
          "name": "stdout",
          "text": [
            "\n",
            "      Epoch    GPU_mem   box_loss   cls_loss   dfl_loss  Instances       Size\n"
          ]
        },
        {
          "output_type": "stream",
          "name": "stderr",
          "text": [
            "     84/100      2.41G     0.9735     0.4813      1.041          6        640: 100%|██████████| 100/100 [00:18<00:00,  5.54it/s]\n",
            "                 Class     Images  Instances      Box(P          R      mAP50  mAP50-95): 100%|██████████| 13/13 [00:01<00:00, 10.39it/s]"
          ]
        },
        {
          "output_type": "stream",
          "name": "stdout",
          "text": [
            "                   all        201        127      0.998      0.976      0.994      0.697\n"
          ]
        },
        {
          "output_type": "stream",
          "name": "stderr",
          "text": [
            "\n"
          ]
        },
        {
          "output_type": "stream",
          "name": "stdout",
          "text": [
            "\n",
            "      Epoch    GPU_mem   box_loss   cls_loss   dfl_loss  Instances       Size\n"
          ]
        },
        {
          "output_type": "stream",
          "name": "stderr",
          "text": [
            "     85/100      2.43G     0.9862     0.4775      1.041          8        640: 100%|██████████| 100/100 [00:17<00:00,  5.78it/s]\n",
            "                 Class     Images  Instances      Box(P          R      mAP50  mAP50-95): 100%|██████████| 13/13 [00:01<00:00,  7.28it/s]"
          ]
        },
        {
          "output_type": "stream",
          "name": "stdout",
          "text": [
            "                   all        201        127      0.984      0.998      0.995      0.694\n"
          ]
        },
        {
          "output_type": "stream",
          "name": "stderr",
          "text": [
            "\n"
          ]
        },
        {
          "output_type": "stream",
          "name": "stdout",
          "text": [
            "\n",
            "      Epoch    GPU_mem   box_loss   cls_loss   dfl_loss  Instances       Size\n"
          ]
        },
        {
          "output_type": "stream",
          "name": "stderr",
          "text": [
            "     86/100      2.44G     0.9756     0.4769      1.051         19        640: 100%|██████████| 100/100 [00:17<00:00,  5.61it/s]\n",
            "                 Class     Images  Instances      Box(P          R      mAP50  mAP50-95): 100%|██████████| 13/13 [00:01<00:00, 10.80it/s]"
          ]
        },
        {
          "output_type": "stream",
          "name": "stdout",
          "text": [
            "                   all        201        127      0.999          1      0.995      0.701\n"
          ]
        },
        {
          "output_type": "stream",
          "name": "stderr",
          "text": [
            "\n"
          ]
        },
        {
          "output_type": "stream",
          "name": "stdout",
          "text": [
            "\n",
            "      Epoch    GPU_mem   box_loss   cls_loss   dfl_loss  Instances       Size\n"
          ]
        },
        {
          "output_type": "stream",
          "name": "stderr",
          "text": [
            "     87/100      2.46G     0.9578     0.4693      1.043          3        640: 100%|██████████| 100/100 [00:17<00:00,  5.84it/s]\n",
            "                 Class     Images  Instances      Box(P          R      mAP50  mAP50-95): 100%|██████████| 13/13 [00:01<00:00,  9.02it/s]"
          ]
        },
        {
          "output_type": "stream",
          "name": "stdout",
          "text": [
            "                   all        201        127      0.977          1      0.995      0.698\n"
          ]
        },
        {
          "output_type": "stream",
          "name": "stderr",
          "text": [
            "\n"
          ]
        },
        {
          "output_type": "stream",
          "name": "stdout",
          "text": [
            "\n",
            "      Epoch    GPU_mem   box_loss   cls_loss   dfl_loss  Instances       Size\n"
          ]
        },
        {
          "output_type": "stream",
          "name": "stderr",
          "text": [
            "     88/100      2.47G     0.9866      0.474      1.052         11        640: 100%|██████████| 100/100 [00:17<00:00,  5.57it/s]\n",
            "                 Class     Images  Instances      Box(P          R      mAP50  mAP50-95): 100%|██████████| 13/13 [00:01<00:00, 10.39it/s]"
          ]
        },
        {
          "output_type": "stream",
          "name": "stdout",
          "text": [
            "                   all        201        127      0.992      0.989      0.995      0.705\n"
          ]
        },
        {
          "output_type": "stream",
          "name": "stderr",
          "text": [
            "\n"
          ]
        },
        {
          "output_type": "stream",
          "name": "stdout",
          "text": [
            "\n",
            "      Epoch    GPU_mem   box_loss   cls_loss   dfl_loss  Instances       Size\n"
          ]
        },
        {
          "output_type": "stream",
          "name": "stderr",
          "text": [
            "     89/100      2.49G     0.9618     0.4703      1.045          4        640: 100%|██████████| 100/100 [00:17<00:00,  5.76it/s]\n",
            "                 Class     Images  Instances      Box(P          R      mAP50  mAP50-95): 100%|██████████| 13/13 [00:01<00:00,  7.58it/s]"
          ]
        },
        {
          "output_type": "stream",
          "name": "stdout",
          "text": [
            "                   all        201        127      0.984      0.998      0.994      0.708\n"
          ]
        },
        {
          "output_type": "stream",
          "name": "stderr",
          "text": [
            "\n"
          ]
        },
        {
          "output_type": "stream",
          "name": "stdout",
          "text": [
            "\n",
            "      Epoch    GPU_mem   box_loss   cls_loss   dfl_loss  Instances       Size\n"
          ]
        },
        {
          "output_type": "stream",
          "name": "stderr",
          "text": [
            "     90/100       2.5G     0.9954     0.4678      1.042         22        640: 100%|██████████| 100/100 [00:17<00:00,  5.66it/s]\n",
            "                 Class     Images  Instances      Box(P          R      mAP50  mAP50-95): 100%|██████████| 13/13 [00:01<00:00, 10.97it/s]"
          ]
        },
        {
          "output_type": "stream",
          "name": "stdout",
          "text": [
            "                   all        201        127      0.992      0.992      0.995      0.707\n"
          ]
        },
        {
          "output_type": "stream",
          "name": "stderr",
          "text": [
            "\n"
          ]
        },
        {
          "output_type": "stream",
          "name": "stdout",
          "text": [
            "Closing dataloader mosaic\n",
            "\u001b[34m\u001b[1malbumentations: \u001b[0mBlur(p=0.01, blur_limit=(3, 7)), MedianBlur(p=0.01, blur_limit=(3, 7)), ToGray(p=0.01, method='weighted_average', num_output_channels=3), CLAHE(p=0.01, clip_limit=(1.0, 4.0), tile_grid_size=(8, 8))\n",
            "\n",
            "      Epoch    GPU_mem   box_loss   cls_loss   dfl_loss  Instances       Size\n"
          ]
        },
        {
          "output_type": "stream",
          "name": "stderr",
          "text": [
            "     91/100      2.52G     0.8809     0.4504     0.9892          5        640: 100%|██████████| 100/100 [00:17<00:00,  5.63it/s]\n",
            "                 Class     Images  Instances      Box(P          R      mAP50  mAP50-95): 100%|██████████| 13/13 [00:02<00:00,  6.42it/s]"
          ]
        },
        {
          "output_type": "stream",
          "name": "stdout",
          "text": [
            "                   all        201        127      0.992      0.999      0.995      0.694\n"
          ]
        },
        {
          "output_type": "stream",
          "name": "stderr",
          "text": [
            "\n"
          ]
        },
        {
          "output_type": "stream",
          "name": "stdout",
          "text": [
            "\n",
            "      Epoch    GPU_mem   box_loss   cls_loss   dfl_loss  Instances       Size\n"
          ]
        },
        {
          "output_type": "stream",
          "name": "stderr",
          "text": [
            "     92/100      2.53G     0.9407     0.4448      1.032          2        640: 100%|██████████| 100/100 [00:16<00:00,  5.89it/s]\n",
            "                 Class     Images  Instances      Box(P          R      mAP50  mAP50-95): 100%|██████████| 13/13 [00:01<00:00, 10.76it/s]"
          ]
        },
        {
          "output_type": "stream",
          "name": "stdout",
          "text": [
            "                   all        201        127      0.991      0.992      0.995      0.698\n",
            "\u001b[34m\u001b[1mEarlyStopping: \u001b[0mTraining stopped early as no improvement observed in last 10 epochs. Best results observed at epoch 82, best model saved as best.pt.\n",
            "To update EarlyStopping(patience=10) pass a new patience value, i.e. `patience=300` or use `patience=0` to disable EarlyStopping.\n"
          ]
        },
        {
          "output_type": "stream",
          "name": "stderr",
          "text": [
            "\n"
          ]
        },
        {
          "output_type": "stream",
          "name": "stdout",
          "text": [
            "\n",
            "92 epochs completed in 0.492 hours.\n",
            "Optimizer stripped from runs/detect/car_detector/weights/last.pt, 5.5MB\n",
            "Optimizer stripped from runs/detect/car_detector/weights/best.pt, 5.5MB\n",
            "\n",
            "Validating runs/detect/car_detector/weights/best.pt...\n",
            "Ultralytics 8.3.137 🚀 Python-3.11.12 torch-2.6.0+cu124 CUDA:0 (Tesla T4, 15095MiB)\n",
            "YOLO11n summary (fused): 100 layers, 2,582,347 parameters, 0 gradients, 6.3 GFLOPs\n"
          ]
        },
        {
          "output_type": "stream",
          "name": "stderr",
          "text": [
            "                 Class     Images  Instances      Box(P          R      mAP50  mAP50-95): 100%|██████████| 13/13 [00:01<00:00,  7.05it/s]\n"
          ]
        },
        {
          "output_type": "stream",
          "name": "stdout",
          "text": [
            "                   all        201        127      0.988      0.984      0.994      0.709\n",
            "Speed: 0.3ms preprocess, 2.6ms inference, 0.0ms loss, 1.9ms postprocess per image\n",
            "Results saved to \u001b[1mruns/detect/car_detector\u001b[0m\n"
          ]
        }
      ]
    },
    {
      "cell_type": "markdown",
      "source": [
        "Evaluate Performance"
      ],
      "metadata": {
        "id": "nzcCOzYyD2Eb"
      }
    },
    {
      "cell_type": "code",
      "source": [
        "model = YOLO(\"/content/runs/detect/car_detector/weights/best.pt\")\n",
        "metrics = model.val()\n",
        "print(\"mAP@0.5:\", metrics.box.map50)\n",
        "print(\"mAP@0.5:0.95:\", metrics.box.map)"
      ],
      "metadata": {
        "colab": {
          "base_uri": "https://localhost:8080/"
        },
        "id": "MMrXmytLD4YV",
        "outputId": "c9869257-e13a-4d73-c203-935d111912a9"
      },
      "execution_count": 11,
      "outputs": [
        {
          "output_type": "stream",
          "name": "stdout",
          "text": [
            "Ultralytics 8.3.137 🚀 Python-3.11.12 torch-2.6.0+cu124 CUDA:0 (Tesla T4, 15095MiB)\n",
            "YOLO11n summary (fused): 100 layers, 2,582,347 parameters, 0 gradients, 6.3 GFLOPs\n",
            "\u001b[34m\u001b[1mval: \u001b[0mFast image access ✅ (ping: 0.0±0.0 ms, read: 1166.5±446.4 MB/s, size: 80.5 KB)\n"
          ]
        },
        {
          "output_type": "stream",
          "name": "stderr",
          "text": [
            "\u001b[34m\u001b[1mval: \u001b[0mScanning /kaggle/working/data/labels/val.cache... 77 images, 124 backgrounds, 0 corrupt: 100%|██████████| 201/201 [00:00<?, ?it/s]\n",
            "                 Class     Images  Instances      Box(P          R      mAP50  mAP50-95): 100%|██████████| 13/13 [00:02<00:00,  5.42it/s]\n"
          ]
        },
        {
          "output_type": "stream",
          "name": "stdout",
          "text": [
            "                   all        201        127      0.995      0.984      0.995      0.708\n",
            "Speed: 1.7ms preprocess, 4.6ms inference, 0.0ms loss, 1.2ms postprocess per image\n",
            "Results saved to \u001b[1mruns/detect/val\u001b[0m\n",
            "mAP@0.5: 0.9949212598425198\n",
            "mAP@0.5:0.95: 0.7079153376081848\n"
          ]
        }
      ]
    },
    {
      "cell_type": "markdown",
      "source": [
        "Inferencia nas imagens de teste"
      ],
      "metadata": {
        "id": "ZuOdAxAAD_Eh"
      }
    },
    {
      "cell_type": "code",
      "source": [
        "test_results = model.predict(source=test_img_dir, conf=0.5, iou=0.5, save=False)\n",
        "\n",
        "# Salvando as predictions\n",
        "pred_dir = \"/kaggle/working/yolov11_results\"\n",
        "img_save_dir = f\"{pred_dir}/images\"\n",
        "label_save_dir = f\"{pred_dir}/labels\"\n",
        "os.makedirs(img_save_dir, exist_ok=True)\n",
        "os.makedirs(label_save_dir, exist_ok=True)\n",
        "\n",
        "for r in test_results:\n",
        "    name = os.path.basename(r.path).split('.')[0]\n",
        "    boxes = r.boxes.xyxy.cpu().numpy()\n",
        "    confs = r.boxes.conf.cpu().numpy()\n",
        "\n",
        "    label_path = os.path.join(label_save_dir, f\"{name}.txt\")\n",
        "    with open(label_path, \"w\") as f:\n",
        "        for score, box in zip(confs, boxes):\n",
        "            f.write(f\"{score:.4f} \" + \" \".join(map(str, box)) + \"\\n\")"
      ],
      "metadata": {
        "colab": {
          "base_uri": "https://localhost:8080/"
        },
        "id": "cM3uKGNtD_du",
        "outputId": "32ef168c-4ac1-45a5-98ac-0f40ae72aa94"
      },
      "execution_count": 12,
      "outputs": [
        {
          "output_type": "stream",
          "name": "stdout",
          "text": [
            "\n",
            "image 1/175 /content/kaggle/input/car-object-detection/data/testing_images/vid_5_25100.jpg: 384x640 (no detections), 75.1ms\n",
            "image 2/175 /content/kaggle/input/car-object-detection/data/testing_images/vid_5_25120.jpg: 384x640 (no detections), 12.1ms\n",
            "image 3/175 /content/kaggle/input/car-object-detection/data/testing_images/vid_5_25140.jpg: 384x640 (no detections), 11.9ms\n",
            "image 4/175 /content/kaggle/input/car-object-detection/data/testing_images/vid_5_25160.jpg: 384x640 (no detections), 16.4ms\n",
            "image 5/175 /content/kaggle/input/car-object-detection/data/testing_images/vid_5_25180.jpg: 384x640 (no detections), 12.1ms\n",
            "image 6/175 /content/kaggle/input/car-object-detection/data/testing_images/vid_5_25200.jpg: 384x640 (no detections), 11.2ms\n",
            "image 7/175 /content/kaggle/input/car-object-detection/data/testing_images/vid_5_25220.jpg: 384x640 (no detections), 13.3ms\n",
            "image 8/175 /content/kaggle/input/car-object-detection/data/testing_images/vid_5_25240.jpg: 384x640 (no detections), 15.4ms\n",
            "image 9/175 /content/kaggle/input/car-object-detection/data/testing_images/vid_5_25260.jpg: 384x640 (no detections), 14.9ms\n",
            "image 10/175 /content/kaggle/input/car-object-detection/data/testing_images/vid_5_26320.jpg: 384x640 (no detections), 15.9ms\n",
            "image 11/175 /content/kaggle/input/car-object-detection/data/testing_images/vid_5_26400.jpg: 384x640 (no detections), 17.7ms\n",
            "image 12/175 /content/kaggle/input/car-object-detection/data/testing_images/vid_5_26420.jpg: 384x640 (no detections), 15.5ms\n",
            "image 13/175 /content/kaggle/input/car-object-detection/data/testing_images/vid_5_26560.jpg: 384x640 1 car, 16.0ms\n",
            "image 14/175 /content/kaggle/input/car-object-detection/data/testing_images/vid_5_26580.jpg: 384x640 1 car, 22.3ms\n",
            "image 15/175 /content/kaggle/input/car-object-detection/data/testing_images/vid_5_26600.jpg: 384x640 2 cars, 23.2ms\n",
            "image 16/175 /content/kaggle/input/car-object-detection/data/testing_images/vid_5_26620.jpg: 384x640 1 car, 18.6ms\n",
            "image 17/175 /content/kaggle/input/car-object-detection/data/testing_images/vid_5_26640.jpg: 384x640 3 cars, 17.9ms\n",
            "image 18/175 /content/kaggle/input/car-object-detection/data/testing_images/vid_5_26660.jpg: 384x640 1 car, 17.1ms\n",
            "image 19/175 /content/kaggle/input/car-object-detection/data/testing_images/vid_5_26680.jpg: 384x640 1 car, 15.3ms\n",
            "image 20/175 /content/kaggle/input/car-object-detection/data/testing_images/vid_5_26700.jpg: 384x640 2 cars, 15.9ms\n",
            "image 21/175 /content/kaggle/input/car-object-detection/data/testing_images/vid_5_26720.jpg: 384x640 3 cars, 16.5ms\n",
            "image 22/175 /content/kaggle/input/car-object-detection/data/testing_images/vid_5_26740.jpg: 384x640 3 cars, 19.2ms\n",
            "image 23/175 /content/kaggle/input/car-object-detection/data/testing_images/vid_5_26760.jpg: 384x640 3 cars, 18.0ms\n",
            "image 24/175 /content/kaggle/input/car-object-detection/data/testing_images/vid_5_26780.jpg: 384x640 2 cars, 17.6ms\n",
            "image 25/175 /content/kaggle/input/car-object-detection/data/testing_images/vid_5_26800.jpg: 384x640 3 cars, 11.6ms\n",
            "image 26/175 /content/kaggle/input/car-object-detection/data/testing_images/vid_5_26820.jpg: 384x640 2 cars, 9.6ms\n",
            "image 27/175 /content/kaggle/input/car-object-detection/data/testing_images/vid_5_26840.jpg: 384x640 1 car, 8.6ms\n",
            "image 28/175 /content/kaggle/input/car-object-detection/data/testing_images/vid_5_26860.jpg: 384x640 1 car, 8.8ms\n",
            "image 29/175 /content/kaggle/input/car-object-detection/data/testing_images/vid_5_26880.jpg: 384x640 1 car, 8.7ms\n",
            "image 30/175 /content/kaggle/input/car-object-detection/data/testing_images/vid_5_26900.jpg: 384x640 2 cars, 8.4ms\n",
            "image 31/175 /content/kaggle/input/car-object-detection/data/testing_images/vid_5_26920.jpg: 384x640 2 cars, 9.5ms\n",
            "image 32/175 /content/kaggle/input/car-object-detection/data/testing_images/vid_5_26940.jpg: 384x640 2 cars, 9.1ms\n",
            "image 33/175 /content/kaggle/input/car-object-detection/data/testing_images/vid_5_26960.jpg: 384x640 1 car, 8.4ms\n",
            "image 34/175 /content/kaggle/input/car-object-detection/data/testing_images/vid_5_26980.jpg: 384x640 (no detections), 8.7ms\n",
            "image 35/175 /content/kaggle/input/car-object-detection/data/testing_images/vid_5_27240.jpg: 384x640 1 car, 9.2ms\n",
            "image 36/175 /content/kaggle/input/car-object-detection/data/testing_images/vid_5_27260.jpg: 384x640 (no detections), 8.7ms\n",
            "image 37/175 /content/kaggle/input/car-object-detection/data/testing_images/vid_5_27280.jpg: 384x640 (no detections), 8.7ms\n",
            "image 38/175 /content/kaggle/input/car-object-detection/data/testing_images/vid_5_27300.jpg: 384x640 2 cars, 8.5ms\n",
            "image 39/175 /content/kaggle/input/car-object-detection/data/testing_images/vid_5_27320.jpg: 384x640 2 cars, 8.7ms\n",
            "image 40/175 /content/kaggle/input/car-object-detection/data/testing_images/vid_5_27360.jpg: 384x640 2 cars, 9.3ms\n",
            "image 41/175 /content/kaggle/input/car-object-detection/data/testing_images/vid_5_27380.jpg: 384x640 3 cars, 9.0ms\n",
            "image 42/175 /content/kaggle/input/car-object-detection/data/testing_images/vid_5_27400.jpg: 384x640 3 cars, 9.0ms\n",
            "image 43/175 /content/kaggle/input/car-object-detection/data/testing_images/vid_5_27420.jpg: 384x640 3 cars, 8.3ms\n",
            "image 44/175 /content/kaggle/input/car-object-detection/data/testing_images/vid_5_27440.jpg: 384x640 3 cars, 8.8ms\n",
            "image 45/175 /content/kaggle/input/car-object-detection/data/testing_images/vid_5_27460.jpg: 384x640 3 cars, 8.7ms\n",
            "image 46/175 /content/kaggle/input/car-object-detection/data/testing_images/vid_5_27480.jpg: 384x640 4 cars, 8.6ms\n",
            "image 47/175 /content/kaggle/input/car-object-detection/data/testing_images/vid_5_27500.jpg: 384x640 1 car, 8.6ms\n",
            "image 48/175 /content/kaggle/input/car-object-detection/data/testing_images/vid_5_27520.jpg: 384x640 2 cars, 9.2ms\n",
            "image 49/175 /content/kaggle/input/car-object-detection/data/testing_images/vid_5_27540.jpg: 384x640 1 car, 8.7ms\n",
            "image 50/175 /content/kaggle/input/car-object-detection/data/testing_images/vid_5_27560.jpg: 384x640 1 car, 8.7ms\n",
            "image 51/175 /content/kaggle/input/car-object-detection/data/testing_images/vid_5_27580.jpg: 384x640 (no detections), 9.0ms\n",
            "image 52/175 /content/kaggle/input/car-object-detection/data/testing_images/vid_5_27600.jpg: 384x640 (no detections), 8.6ms\n",
            "image 53/175 /content/kaggle/input/car-object-detection/data/testing_images/vid_5_27620.jpg: 384x640 1 car, 8.4ms\n",
            "image 54/175 /content/kaggle/input/car-object-detection/data/testing_images/vid_5_27640.jpg: 384x640 1 car, 8.6ms\n",
            "image 55/175 /content/kaggle/input/car-object-detection/data/testing_images/vid_5_27660.jpg: 384x640 (no detections), 8.8ms\n",
            "image 56/175 /content/kaggle/input/car-object-detection/data/testing_images/vid_5_27680.jpg: 384x640 (no detections), 8.4ms\n",
            "image 57/175 /content/kaggle/input/car-object-detection/data/testing_images/vid_5_27700.jpg: 384x640 (no detections), 8.5ms\n",
            "image 58/175 /content/kaggle/input/car-object-detection/data/testing_images/vid_5_27720.jpg: 384x640 (no detections), 8.9ms\n",
            "image 59/175 /content/kaggle/input/car-object-detection/data/testing_images/vid_5_27740.jpg: 384x640 (no detections), 9.5ms\n",
            "image 60/175 /content/kaggle/input/car-object-detection/data/testing_images/vid_5_27760.jpg: 384x640 (no detections), 8.7ms\n",
            "image 61/175 /content/kaggle/input/car-object-detection/data/testing_images/vid_5_27780.jpg: 384x640 (no detections), 8.6ms\n",
            "image 62/175 /content/kaggle/input/car-object-detection/data/testing_images/vid_5_27800.jpg: 384x640 (no detections), 8.9ms\n",
            "image 63/175 /content/kaggle/input/car-object-detection/data/testing_images/vid_5_27820.jpg: 384x640 1 car, 8.8ms\n",
            "image 64/175 /content/kaggle/input/car-object-detection/data/testing_images/vid_5_27840.jpg: 384x640 1 car, 8.6ms\n",
            "image 65/175 /content/kaggle/input/car-object-detection/data/testing_images/vid_5_27860.jpg: 384x640 1 car, 14.3ms\n",
            "image 66/175 /content/kaggle/input/car-object-detection/data/testing_images/vid_5_27880.jpg: 384x640 1 car, 8.7ms\n",
            "image 67/175 /content/kaggle/input/car-object-detection/data/testing_images/vid_5_27900.jpg: 384x640 1 car, 8.3ms\n",
            "image 68/175 /content/kaggle/input/car-object-detection/data/testing_images/vid_5_27920.jpg: 384x640 1 car, 8.6ms\n",
            "image 69/175 /content/kaggle/input/car-object-detection/data/testing_images/vid_5_27940.jpg: 384x640 1 car, 8.4ms\n",
            "image 70/175 /content/kaggle/input/car-object-detection/data/testing_images/vid_5_27960.jpg: 384x640 (no detections), 9.3ms\n",
            "image 71/175 /content/kaggle/input/car-object-detection/data/testing_images/vid_5_27980.jpg: 384x640 (no detections), 15.0ms\n",
            "image 72/175 /content/kaggle/input/car-object-detection/data/testing_images/vid_5_28000.jpg: 384x640 (no detections), 12.1ms\n",
            "image 73/175 /content/kaggle/input/car-object-detection/data/testing_images/vid_5_28020.jpg: 384x640 (no detections), 9.5ms\n",
            "image 74/175 /content/kaggle/input/car-object-detection/data/testing_images/vid_5_28040.jpg: 384x640 (no detections), 8.8ms\n",
            "image 75/175 /content/kaggle/input/car-object-detection/data/testing_images/vid_5_28060.jpg: 384x640 (no detections), 10.3ms\n",
            "image 76/175 /content/kaggle/input/car-object-detection/data/testing_images/vid_5_28080.jpg: 384x640 (no detections), 8.8ms\n",
            "image 77/175 /content/kaggle/input/car-object-detection/data/testing_images/vid_5_28180.jpg: 384x640 (no detections), 8.9ms\n",
            "image 78/175 /content/kaggle/input/car-object-detection/data/testing_images/vid_5_28260.jpg: 384x640 1 car, 8.3ms\n",
            "image 79/175 /content/kaggle/input/car-object-detection/data/testing_images/vid_5_28320.jpg: 384x640 (no detections), 8.3ms\n",
            "image 80/175 /content/kaggle/input/car-object-detection/data/testing_images/vid_5_28340.jpg: 384x640 (no detections), 8.6ms\n",
            "image 81/175 /content/kaggle/input/car-object-detection/data/testing_images/vid_5_28360.jpg: 384x640 (no detections), 8.4ms\n",
            "image 82/175 /content/kaggle/input/car-object-detection/data/testing_images/vid_5_28380.jpg: 384x640 1 car, 8.5ms\n",
            "image 83/175 /content/kaggle/input/car-object-detection/data/testing_images/vid_5_28420.jpg: 384x640 1 car, 9.3ms\n",
            "image 84/175 /content/kaggle/input/car-object-detection/data/testing_images/vid_5_28440.jpg: 384x640 1 car, 8.9ms\n",
            "image 85/175 /content/kaggle/input/car-object-detection/data/testing_images/vid_5_28460.jpg: 384x640 (no detections), 8.3ms\n",
            "image 86/175 /content/kaggle/input/car-object-detection/data/testing_images/vid_5_28480.jpg: 384x640 (no detections), 8.1ms\n",
            "image 87/175 /content/kaggle/input/car-object-detection/data/testing_images/vid_5_28500.jpg: 384x640 1 car, 8.9ms\n",
            "image 88/175 /content/kaggle/input/car-object-detection/data/testing_images/vid_5_28520.jpg: 384x640 1 car, 10.7ms\n",
            "image 89/175 /content/kaggle/input/car-object-detection/data/testing_images/vid_5_28540.jpg: 384x640 1 car, 9.1ms\n",
            "image 90/175 /content/kaggle/input/car-object-detection/data/testing_images/vid_5_28560.jpg: 384x640 (no detections), 8.5ms\n",
            "image 91/175 /content/kaggle/input/car-object-detection/data/testing_images/vid_5_28580.jpg: 384x640 (no detections), 8.3ms\n",
            "image 92/175 /content/kaggle/input/car-object-detection/data/testing_images/vid_5_28600.jpg: 384x640 (no detections), 8.9ms\n",
            "image 93/175 /content/kaggle/input/car-object-detection/data/testing_images/vid_5_28620.jpg: 384x640 (no detections), 9.4ms\n",
            "image 94/175 /content/kaggle/input/car-object-detection/data/testing_images/vid_5_28640.jpg: 384x640 (no detections), 9.0ms\n",
            "image 95/175 /content/kaggle/input/car-object-detection/data/testing_images/vid_5_28660.jpg: 384x640 (no detections), 8.4ms\n",
            "image 96/175 /content/kaggle/input/car-object-detection/data/testing_images/vid_5_28680.jpg: 384x640 (no detections), 9.8ms\n",
            "image 97/175 /content/kaggle/input/car-object-detection/data/testing_images/vid_5_28700.jpg: 384x640 (no detections), 8.7ms\n",
            "image 98/175 /content/kaggle/input/car-object-detection/data/testing_images/vid_5_29000.jpg: 384x640 2 cars, 8.4ms\n",
            "image 99/175 /content/kaggle/input/car-object-detection/data/testing_images/vid_5_29020.jpg: 384x640 1 car, 8.3ms\n",
            "image 100/175 /content/kaggle/input/car-object-detection/data/testing_images/vid_5_29040.jpg: 384x640 1 car, 8.4ms\n",
            "image 101/175 /content/kaggle/input/car-object-detection/data/testing_images/vid_5_29060.jpg: 384x640 (no detections), 8.2ms\n",
            "image 102/175 /content/kaggle/input/car-object-detection/data/testing_images/vid_5_29080.jpg: 384x640 (no detections), 8.5ms\n",
            "image 103/175 /content/kaggle/input/car-object-detection/data/testing_images/vid_5_29100.jpg: 384x640 (no detections), 8.5ms\n",
            "image 104/175 /content/kaggle/input/car-object-detection/data/testing_images/vid_5_29400.jpg: 384x640 1 car, 8.4ms\n",
            "image 105/175 /content/kaggle/input/car-object-detection/data/testing_images/vid_5_29420.jpg: 384x640 2 cars, 8.9ms\n",
            "image 106/175 /content/kaggle/input/car-object-detection/data/testing_images/vid_5_29440.jpg: 384x640 2 cars, 8.5ms\n",
            "image 107/175 /content/kaggle/input/car-object-detection/data/testing_images/vid_5_29460.jpg: 384x640 1 car, 8.6ms\n",
            "image 108/175 /content/kaggle/input/car-object-detection/data/testing_images/vid_5_29480.jpg: 384x640 1 car, 8.4ms\n",
            "image 109/175 /content/kaggle/input/car-object-detection/data/testing_images/vid_5_29500.jpg: 384x640 (no detections), 10.2ms\n",
            "image 110/175 /content/kaggle/input/car-object-detection/data/testing_images/vid_5_29520.jpg: 384x640 (no detections), 8.7ms\n",
            "image 111/175 /content/kaggle/input/car-object-detection/data/testing_images/vid_5_29540.jpg: 384x640 2 cars, 8.3ms\n",
            "image 112/175 /content/kaggle/input/car-object-detection/data/testing_images/vid_5_29560.jpg: 384x640 1 car, 8.4ms\n",
            "image 113/175 /content/kaggle/input/car-object-detection/data/testing_images/vid_5_29580.jpg: 384x640 1 car, 8.8ms\n",
            "image 114/175 /content/kaggle/input/car-object-detection/data/testing_images/vid_5_29600.jpg: 384x640 (no detections), 8.4ms\n",
            "image 115/175 /content/kaggle/input/car-object-detection/data/testing_images/vid_5_29620.jpg: 384x640 (no detections), 8.4ms\n",
            "image 116/175 /content/kaggle/input/car-object-detection/data/testing_images/vid_5_29640.jpg: 384x640 (no detections), 8.8ms\n",
            "image 117/175 /content/kaggle/input/car-object-detection/data/testing_images/vid_5_29720.jpg: 384x640 (no detections), 8.3ms\n",
            "image 118/175 /content/kaggle/input/car-object-detection/data/testing_images/vid_5_29740.jpg: 384x640 (no detections), 8.6ms\n",
            "image 119/175 /content/kaggle/input/car-object-detection/data/testing_images/vid_5_29760.jpg: 384x640 1 car, 8.5ms\n",
            "image 120/175 /content/kaggle/input/car-object-detection/data/testing_images/vid_5_29820.jpg: 384x640 1 car, 8.5ms\n",
            "image 121/175 /content/kaggle/input/car-object-detection/data/testing_images/vid_5_29840.jpg: 384x640 1 car, 8.5ms\n",
            "image 122/175 /content/kaggle/input/car-object-detection/data/testing_images/vid_5_29860.jpg: 384x640 (no detections), 9.0ms\n",
            "image 123/175 /content/kaggle/input/car-object-detection/data/testing_images/vid_5_29880.jpg: 384x640 (no detections), 8.4ms\n",
            "image 124/175 /content/kaggle/input/car-object-detection/data/testing_images/vid_5_29900.jpg: 384x640 (no detections), 9.0ms\n",
            "image 125/175 /content/kaggle/input/car-object-detection/data/testing_images/vid_5_29980.jpg: 384x640 (no detections), 8.5ms\n",
            "image 126/175 /content/kaggle/input/car-object-detection/data/testing_images/vid_5_30000.jpg: 384x640 (no detections), 8.5ms\n",
            "image 127/175 /content/kaggle/input/car-object-detection/data/testing_images/vid_5_30020.jpg: 384x640 (no detections), 9.5ms\n",
            "image 128/175 /content/kaggle/input/car-object-detection/data/testing_images/vid_5_30040.jpg: 384x640 (no detections), 8.2ms\n",
            "image 129/175 /content/kaggle/input/car-object-detection/data/testing_images/vid_5_30120.jpg: 384x640 (no detections), 8.4ms\n",
            "image 130/175 /content/kaggle/input/car-object-detection/data/testing_images/vid_5_30140.jpg: 384x640 (no detections), 8.5ms\n",
            "image 131/175 /content/kaggle/input/car-object-detection/data/testing_images/vid_5_30160.jpg: 384x640 (no detections), 8.4ms\n",
            "image 132/175 /content/kaggle/input/car-object-detection/data/testing_images/vid_5_30180.jpg: 384x640 (no detections), 9.4ms\n",
            "image 133/175 /content/kaggle/input/car-object-detection/data/testing_images/vid_5_30640.jpg: 384x640 1 car, 8.9ms\n",
            "image 134/175 /content/kaggle/input/car-object-detection/data/testing_images/vid_5_30660.jpg: 384x640 (no detections), 8.3ms\n",
            "image 135/175 /content/kaggle/input/car-object-detection/data/testing_images/vid_5_30680.jpg: 384x640 (no detections), 8.3ms\n",
            "image 136/175 /content/kaggle/input/car-object-detection/data/testing_images/vid_5_30700.jpg: 384x640 (no detections), 8.4ms\n",
            "image 137/175 /content/kaggle/input/car-object-detection/data/testing_images/vid_5_30720.jpg: 384x640 (no detections), 8.4ms\n",
            "image 138/175 /content/kaggle/input/car-object-detection/data/testing_images/vid_5_30740.jpg: 384x640 1 car, 8.3ms\n",
            "image 139/175 /content/kaggle/input/car-object-detection/data/testing_images/vid_5_30760.jpg: 384x640 2 cars, 12.2ms\n",
            "image 140/175 /content/kaggle/input/car-object-detection/data/testing_images/vid_5_30820.jpg: 384x640 1 car, 16.6ms\n",
            "image 141/175 /content/kaggle/input/car-object-detection/data/testing_images/vid_5_30840.jpg: 384x640 (no detections), 8.6ms\n",
            "image 142/175 /content/kaggle/input/car-object-detection/data/testing_images/vid_5_30860.jpg: 384x640 1 car, 9.1ms\n",
            "image 143/175 /content/kaggle/input/car-object-detection/data/testing_images/vid_5_30920.jpg: 384x640 2 cars, 11.1ms\n",
            "image 144/175 /content/kaggle/input/car-object-detection/data/testing_images/vid_5_30940.jpg: 384x640 1 car, 8.8ms\n",
            "image 145/175 /content/kaggle/input/car-object-detection/data/testing_images/vid_5_31020.jpg: 384x640 2 cars, 8.5ms\n",
            "image 146/175 /content/kaggle/input/car-object-detection/data/testing_images/vid_5_31040.jpg: 384x640 3 cars, 8.6ms\n",
            "image 147/175 /content/kaggle/input/car-object-detection/data/testing_images/vid_5_31060.jpg: 384x640 1 car, 8.4ms\n",
            "image 148/175 /content/kaggle/input/car-object-detection/data/testing_images/vid_5_31080.jpg: 384x640 2 cars, 8.5ms\n",
            "image 149/175 /content/kaggle/input/car-object-detection/data/testing_images/vid_5_31100.jpg: 384x640 1 car, 9.5ms\n",
            "image 150/175 /content/kaggle/input/car-object-detection/data/testing_images/vid_5_31120.jpg: 384x640 2 cars, 8.5ms\n",
            "image 151/175 /content/kaggle/input/car-object-detection/data/testing_images/vid_5_31140.jpg: 384x640 1 car, 8.4ms\n",
            "image 152/175 /content/kaggle/input/car-object-detection/data/testing_images/vid_5_31160.jpg: 384x640 1 car, 8.5ms\n",
            "image 153/175 /content/kaggle/input/car-object-detection/data/testing_images/vid_5_31180.jpg: 384x640 (no detections), 10.5ms\n",
            "image 154/175 /content/kaggle/input/car-object-detection/data/testing_images/vid_5_31200.jpg: 384x640 (no detections), 9.5ms\n",
            "image 155/175 /content/kaggle/input/car-object-detection/data/testing_images/vid_5_31260.jpg: 384x640 (no detections), 11.2ms\n",
            "image 156/175 /content/kaggle/input/car-object-detection/data/testing_images/vid_5_31280.jpg: 384x640 (no detections), 8.5ms\n",
            "image 157/175 /content/kaggle/input/car-object-detection/data/testing_images/vid_5_31300.jpg: 384x640 (no detections), 8.4ms\n",
            "image 158/175 /content/kaggle/input/car-object-detection/data/testing_images/vid_5_31360.jpg: 384x640 (no detections), 8.9ms\n",
            "image 159/175 /content/kaggle/input/car-object-detection/data/testing_images/vid_5_31380.jpg: 384x640 (no detections), 9.0ms\n",
            "image 160/175 /content/kaggle/input/car-object-detection/data/testing_images/vid_5_31400.jpg: 384x640 (no detections), 9.2ms\n",
            "image 161/175 /content/kaggle/input/car-object-detection/data/testing_images/vid_5_31420.jpg: 384x640 (no detections), 9.5ms\n",
            "image 162/175 /content/kaggle/input/car-object-detection/data/testing_images/vid_5_31480.jpg: 384x640 (no detections), 9.0ms\n",
            "image 163/175 /content/kaggle/input/car-object-detection/data/testing_images/vid_5_31500.jpg: 384x640 (no detections), 8.4ms\n",
            "image 164/175 /content/kaggle/input/car-object-detection/data/testing_images/vid_5_31520.jpg: 384x640 (no detections), 10.2ms\n",
            "image 165/175 /content/kaggle/input/car-object-detection/data/testing_images/vid_5_31560.jpg: 384x640 1 car, 8.8ms\n",
            "image 166/175 /content/kaggle/input/car-object-detection/data/testing_images/vid_5_31600.jpg: 384x640 2 cars, 8.9ms\n",
            "image 167/175 /content/kaggle/input/car-object-detection/data/testing_images/vid_5_31620.jpg: 384x640 1 car, 8.6ms\n",
            "image 168/175 /content/kaggle/input/car-object-detection/data/testing_images/vid_5_31640.jpg: 384x640 (no detections), 8.8ms\n",
            "image 169/175 /content/kaggle/input/car-object-detection/data/testing_images/vid_5_31660.jpg: 384x640 (no detections), 8.8ms\n",
            "image 170/175 /content/kaggle/input/car-object-detection/data/testing_images/vid_5_31680.jpg: 384x640 (no detections), 8.7ms\n",
            "image 171/175 /content/kaggle/input/car-object-detection/data/testing_images/vid_5_31700.jpg: 384x640 1 car, 8.6ms\n",
            "image 172/175 /content/kaggle/input/car-object-detection/data/testing_images/vid_5_31720.jpg: 384x640 1 car, 9.0ms\n",
            "image 173/175 /content/kaggle/input/car-object-detection/data/testing_images/vid_5_400.jpg: 384x640 1 car, 8.4ms\n",
            "image 174/175 /content/kaggle/input/car-object-detection/data/testing_images/vid_5_420.jpg: 384x640 1 car, 8.3ms\n",
            "image 175/175 /content/kaggle/input/car-object-detection/data/testing_images/vid_5_440.jpg: 384x640 2 cars, 9.3ms\n",
            "Speed: 2.1ms preprocess, 10.3ms inference, 1.1ms postprocess per image at shape (1, 3, 384, 640)\n"
          ]
        }
      ]
    }
  ]
}